{
 "cells": [
  {
   "cell_type": "markdown",
   "id": "42828fb3-5de0-4a30-983b-ef496ff8da42",
   "metadata": {},
   "source": [
    "# Mining processes inside Indigenous lands\n",
    "\n",
    "An analysis of the individuals and companies seeking legal authorization to mine within these protected territories"
   ]
  },
  {
   "cell_type": "code",
   "execution_count": 1,
   "id": "733b6091-9143-4511-8af5-96abd1653f92",
   "metadata": {},
   "outputs": [],
   "source": [
    "import pandas as pd"
   ]
  },
  {
   "cell_type": "code",
   "execution_count": 2,
   "id": "574c3d97-9c2f-4305-b2e1-92b1de8651c4",
   "metadata": {},
   "outputs": [],
   "source": [
    "# This is a CSV exported from QGIS, containing mining vectors located within Indigenous lands.\n",
    "# Mining activity is legally prohibited within these territories.\n",
    "# The data includes gold mining and other types of mineral extraction.\n",
    "df_ind = pd.read_csv('mining_ind_lands.csv')"
   ]
  },
  {
   "cell_type": "code",
   "execution_count": 3,
   "id": "06f6c0ac-66db-4123-a4f1-f5c885f82d48",
   "metadata": {},
   "outputs": [
    {
     "data": {
      "text/html": [
       "<div>\n",
       "<style scoped>\n",
       "    .dataframe tbody tr th:only-of-type {\n",
       "        vertical-align: middle;\n",
       "    }\n",
       "\n",
       "    .dataframe tbody tr th {\n",
       "        vertical-align: top;\n",
       "    }\n",
       "\n",
       "    .dataframe thead th {\n",
       "        text-align: right;\n",
       "    }\n",
       "</style>\n",
       "<table border=\"1\" class=\"dataframe\">\n",
       "  <thead>\n",
       "    <tr style=\"text-align: right;\">\n",
       "      <th></th>\n",
       "      <th>PROCESSO</th>\n",
       "      <th>NUMERO</th>\n",
       "      <th>ANO</th>\n",
       "      <th>AREA_HA</th>\n",
       "      <th>ID</th>\n",
       "      <th>FASE</th>\n",
       "      <th>ULT_EVENTO</th>\n",
       "      <th>NOME</th>\n",
       "      <th>SUBS</th>\n",
       "      <th>USO</th>\n",
       "      <th>UF</th>\n",
       "      <th>DSProcesso</th>\n",
       "    </tr>\n",
       "  </thead>\n",
       "  <tbody>\n",
       "    <tr>\n",
       "      <th>0</th>\n",
       "      <td>871501/2014</td>\n",
       "      <td>871501</td>\n",
       "      <td>2014</td>\n",
       "      <td>23.99</td>\n",
       "      <td>{4B604FB0-F71B-4748-B09E-43AADDC484B9}</td>\n",
       "      <td>AUTORIZAÇÃO DE PESQUISA</td>\n",
       "      <td>178 - AUT PESQ/TAH - NOTIFICAÇÃO ADMINISTRATIV...</td>\n",
       "      <td>Marcondes Nogueira Beneficiamentos Ltda Me</td>\n",
       "      <td>AREIA</td>\n",
       "      <td>Construção civil</td>\n",
       "      <td>BA</td>\n",
       "      <td>871.501/2014</td>\n",
       "    </tr>\n",
       "    <tr>\n",
       "      <th>1</th>\n",
       "      <td>870631/2017</td>\n",
       "      <td>870631</td>\n",
       "      <td>2017</td>\n",
       "      <td>996.14</td>\n",
       "      <td>{430B272D-8C2C-4532-BEC4-E8CD24F5AABE}</td>\n",
       "      <td>AUTORIZAÇÃO DE PESQUISA</td>\n",
       "      <td>225 - AUT PESQ/MULTA APLICADA PUBL EM 18/09/2023</td>\n",
       "      <td>Luciano Araujo Menezes</td>\n",
       "      <td>ARGILA</td>\n",
       "      <td>Industrial</td>\n",
       "      <td>BA</td>\n",
       "      <td>870.631/2017</td>\n",
       "    </tr>\n",
       "    <tr>\n",
       "      <th>2</th>\n",
       "      <td>872417/2012</td>\n",
       "      <td>872417</td>\n",
       "      <td>2012</td>\n",
       "      <td>36.32</td>\n",
       "      <td>{73E1EDE7-0099-45B7-8939-38EEB3420533}</td>\n",
       "      <td>AUTORIZAÇÃO DE PESQUISA</td>\n",
       "      <td>2481 - AUT PESQ/VENCIMENTO ALVARÁ ALTERADO RES...</td>\n",
       "      <td>Empresa de Navegação Vjb Ltda</td>\n",
       "      <td>AREIA</td>\n",
       "      <td>Construção civil</td>\n",
       "      <td>BA</td>\n",
       "      <td>872.417/2012</td>\n",
       "    </tr>\n",
       "    <tr>\n",
       "      <th>3</th>\n",
       "      <td>871780/2018</td>\n",
       "      <td>871780</td>\n",
       "      <td>2018</td>\n",
       "      <td>905.86</td>\n",
       "      <td>{51F38A5F-67A5-4506-A7B0-99425C792300}</td>\n",
       "      <td>AUTORIZAÇÃO DE PESQUISA</td>\n",
       "      <td>794 - AUT PESQ/RELATÓRIO FINAL PESQUISA POSITI...</td>\n",
       "      <td>MOACYR COSTA PEREIRA DE ANDRADE</td>\n",
       "      <td>AREIA</td>\n",
       "      <td>Industrial</td>\n",
       "      <td>BA</td>\n",
       "      <td>871.780/2018</td>\n",
       "    </tr>\n",
       "    <tr>\n",
       "      <th>4</th>\n",
       "      <td>872416/2012</td>\n",
       "      <td>872416</td>\n",
       "      <td>2012</td>\n",
       "      <td>48.11</td>\n",
       "      <td>{97AD657E-BB79-497E-917D-3BE34F296840}</td>\n",
       "      <td>AUTORIZAÇÃO DE PESQUISA</td>\n",
       "      <td>2481 - AUT PESQ/VENCIMENTO ALVARÁ ALTERADO RES...</td>\n",
       "      <td>Empresa de Navegação Vjb Ltda</td>\n",
       "      <td>AREIA</td>\n",
       "      <td>Construção civil</td>\n",
       "      <td>BA</td>\n",
       "      <td>872.416/2012</td>\n",
       "    </tr>\n",
       "  </tbody>\n",
       "</table>\n",
       "</div>"
      ],
      "text/plain": [
       "      PROCESSO  NUMERO   ANO  AREA_HA                                      ID  \\\n",
       "0  871501/2014  871501  2014    23.99  {4B604FB0-F71B-4748-B09E-43AADDC484B9}   \n",
       "1  870631/2017  870631  2017   996.14  {430B272D-8C2C-4532-BEC4-E8CD24F5AABE}   \n",
       "2  872417/2012  872417  2012    36.32  {73E1EDE7-0099-45B7-8939-38EEB3420533}   \n",
       "3  871780/2018  871780  2018   905.86  {51F38A5F-67A5-4506-A7B0-99425C792300}   \n",
       "4  872416/2012  872416  2012    48.11  {97AD657E-BB79-497E-917D-3BE34F296840}   \n",
       "\n",
       "                      FASE                                         ULT_EVENTO  \\\n",
       "0  AUTORIZAÇÃO DE PESQUISA  178 - AUT PESQ/TAH - NOTIFICAÇÃO ADMINISTRATIV...   \n",
       "1  AUTORIZAÇÃO DE PESQUISA   225 - AUT PESQ/MULTA APLICADA PUBL EM 18/09/2023   \n",
       "2  AUTORIZAÇÃO DE PESQUISA  2481 - AUT PESQ/VENCIMENTO ALVARÁ ALTERADO RES...   \n",
       "3  AUTORIZAÇÃO DE PESQUISA  794 - AUT PESQ/RELATÓRIO FINAL PESQUISA POSITI...   \n",
       "4  AUTORIZAÇÃO DE PESQUISA  2481 - AUT PESQ/VENCIMENTO ALVARÁ ALTERADO RES...   \n",
       "\n",
       "                                         NOME    SUBS               USO  UF  \\\n",
       "0  Marcondes Nogueira Beneficiamentos Ltda Me   AREIA  Construção civil  BA   \n",
       "1                      Luciano Araujo Menezes  ARGILA        Industrial  BA   \n",
       "2               Empresa de Navegação Vjb Ltda   AREIA  Construção civil  BA   \n",
       "3             MOACYR COSTA PEREIRA DE ANDRADE   AREIA        Industrial  BA   \n",
       "4               Empresa de Navegação Vjb Ltda   AREIA  Construção civil  BA   \n",
       "\n",
       "     DSProcesso  \n",
       "0  871.501/2014  \n",
       "1  870.631/2017  \n",
       "2  872.417/2012  \n",
       "3  871.780/2018  \n",
       "4  872.416/2012  "
      ]
     },
     "execution_count": 3,
     "metadata": {},
     "output_type": "execute_result"
    }
   ],
   "source": [
    "df_ind.head()"
   ]
  },
  {
   "cell_type": "code",
   "execution_count": 146,
   "id": "ce624110-3619-48f0-9d3b-35bc5105892b",
   "metadata": {},
   "outputs": [
    {
     "data": {
      "text/html": [
       "<div>\n",
       "<style scoped>\n",
       "    .dataframe tbody tr th:only-of-type {\n",
       "        vertical-align: middle;\n",
       "    }\n",
       "\n",
       "    .dataframe tbody tr th {\n",
       "        vertical-align: top;\n",
       "    }\n",
       "\n",
       "    .dataframe thead th {\n",
       "        text-align: right;\n",
       "    }\n",
       "</style>\n",
       "<table border=\"1\" class=\"dataframe\">\n",
       "  <thead>\n",
       "    <tr style=\"text-align: right;\">\n",
       "      <th></th>\n",
       "      <th>PROCESSO</th>\n",
       "      <th>NUMERO</th>\n",
       "      <th>ANO</th>\n",
       "      <th>AREA_HA</th>\n",
       "      <th>ID</th>\n",
       "      <th>FASE</th>\n",
       "      <th>ULT_EVENTO</th>\n",
       "      <th>NOME</th>\n",
       "      <th>SUBS</th>\n",
       "      <th>USO</th>\n",
       "      <th>UF</th>\n",
       "      <th>DSProcesso</th>\n",
       "    </tr>\n",
       "  </thead>\n",
       "  <tbody>\n",
       "    <tr>\n",
       "      <th>2630</th>\n",
       "      <td>830191/2004</td>\n",
       "      <td>830191</td>\n",
       "      <td>2004</td>\n",
       "      <td>960.00</td>\n",
       "      <td>{B69F52D1-21B9-4ECD-874D-1D2EBEC92B32}</td>\n",
       "      <td>AUTORIZAÇÃO DE PESQUISA</td>\n",
       "      <td>236 - AUT PESQ/DOCUMENTO DIVERSO PROTOC EM 01/...</td>\n",
       "      <td>BRASPEDRAS - COMERCIO, IMPORTACAO E EXPORTACAO...</td>\n",
       "      <td>GRANITO</td>\n",
       "      <td>Revestimento</td>\n",
       "      <td>MG</td>\n",
       "      <td>830.191/2004</td>\n",
       "    </tr>\n",
       "    <tr>\n",
       "      <th>2631</th>\n",
       "      <td>831071/2017</td>\n",
       "      <td>831071</td>\n",
       "      <td>2017</td>\n",
       "      <td>19.12</td>\n",
       "      <td>{7D754E95-9EE5-46C1-84E3-5C993BB3595C}</td>\n",
       "      <td>LICENCIAMENTO</td>\n",
       "      <td>1774 - LICEN/RAL RETIFICADOR ANO BASE APRESENT...</td>\n",
       "      <td>CERAMICA SANTA CLARA LTDA</td>\n",
       "      <td>ARGILA</td>\n",
       "      <td>Construção civil</td>\n",
       "      <td>MG</td>\n",
       "      <td>831.071/2017</td>\n",
       "    </tr>\n",
       "    <tr>\n",
       "      <th>2632</th>\n",
       "      <td>831954/2023</td>\n",
       "      <td>831954</td>\n",
       "      <td>2023</td>\n",
       "      <td>1999.57</td>\n",
       "      <td>{51258603-B553-47F2-9279-2181D0463D5E}</td>\n",
       "      <td>AUTORIZAÇÃO DE PESQUISA</td>\n",
       "      <td>294 - AUT PESQ/RENÚNCIA AUTORIZAÇÃO PESQUISA H...</td>\n",
       "      <td>FOXFIRE METALS LTDA</td>\n",
       "      <td>MINÉRIO DE LÍTIO</td>\n",
       "      <td>Industrial</td>\n",
       "      <td>MG</td>\n",
       "      <td>831.954/2023</td>\n",
       "    </tr>\n",
       "    <tr>\n",
       "      <th>2633</th>\n",
       "      <td>868337/2021</td>\n",
       "      <td>868337</td>\n",
       "      <td>2021</td>\n",
       "      <td>1578.86</td>\n",
       "      <td>{17F9552A-0BDE-4985-A3D7-5FED360B04BA}</td>\n",
       "      <td>REQUERIMENTO DE PESQUISA</td>\n",
       "      <td>132 - REQ PESQ/PRORROGAÇÃO PRAZO EXIGÊNCIA PRO...</td>\n",
       "      <td>OMNI MINERACAO &amp; CONSULTORIA LTDA</td>\n",
       "      <td>MINÉRIO DE COBRE</td>\n",
       "      <td>Industrial</td>\n",
       "      <td>MS</td>\n",
       "      <td>868.337/2021</td>\n",
       "    </tr>\n",
       "    <tr>\n",
       "      <th>2634</th>\n",
       "      <td>868336/2021</td>\n",
       "      <td>868336</td>\n",
       "      <td>2021</td>\n",
       "      <td>1830.99</td>\n",
       "      <td>{A11F8B9B-DA0B-4DB2-8172-49B484A44C9C}</td>\n",
       "      <td>REQUERIMENTO DE PESQUISA</td>\n",
       "      <td>132 - REQ PESQ/PRORROGAÇÃO PRAZO EXIGÊNCIA PRO...</td>\n",
       "      <td>OMNI MINERACAO &amp; CONSULTORIA LTDA</td>\n",
       "      <td>MINÉRIO DE COBRE</td>\n",
       "      <td>Industrial</td>\n",
       "      <td>MS</td>\n",
       "      <td>868.336/2021</td>\n",
       "    </tr>\n",
       "  </tbody>\n",
       "</table>\n",
       "</div>"
      ],
      "text/plain": [
       "         PROCESSO  NUMERO   ANO  AREA_HA  \\\n",
       "2630  830191/2004  830191  2004   960.00   \n",
       "2631  831071/2017  831071  2017    19.12   \n",
       "2632  831954/2023  831954  2023  1999.57   \n",
       "2633  868337/2021  868337  2021  1578.86   \n",
       "2634  868336/2021  868336  2021  1830.99   \n",
       "\n",
       "                                          ID                      FASE  \\\n",
       "2630  {B69F52D1-21B9-4ECD-874D-1D2EBEC92B32}   AUTORIZAÇÃO DE PESQUISA   \n",
       "2631  {7D754E95-9EE5-46C1-84E3-5C993BB3595C}             LICENCIAMENTO   \n",
       "2632  {51258603-B553-47F2-9279-2181D0463D5E}   AUTORIZAÇÃO DE PESQUISA   \n",
       "2633  {17F9552A-0BDE-4985-A3D7-5FED360B04BA}  REQUERIMENTO DE PESQUISA   \n",
       "2634  {A11F8B9B-DA0B-4DB2-8172-49B484A44C9C}  REQUERIMENTO DE PESQUISA   \n",
       "\n",
       "                                             ULT_EVENTO  \\\n",
       "2630  236 - AUT PESQ/DOCUMENTO DIVERSO PROTOC EM 01/...   \n",
       "2631  1774 - LICEN/RAL RETIFICADOR ANO BASE APRESENT...   \n",
       "2632  294 - AUT PESQ/RENÚNCIA AUTORIZAÇÃO PESQUISA H...   \n",
       "2633  132 - REQ PESQ/PRORROGAÇÃO PRAZO EXIGÊNCIA PRO...   \n",
       "2634  132 - REQ PESQ/PRORROGAÇÃO PRAZO EXIGÊNCIA PRO...   \n",
       "\n",
       "                                                   NOME              SUBS  \\\n",
       "2630  BRASPEDRAS - COMERCIO, IMPORTACAO E EXPORTACAO...           GRANITO   \n",
       "2631                          CERAMICA SANTA CLARA LTDA            ARGILA   \n",
       "2632                                FOXFIRE METALS LTDA  MINÉRIO DE LÍTIO   \n",
       "2633                  OMNI MINERACAO & CONSULTORIA LTDA  MINÉRIO DE COBRE   \n",
       "2634                  OMNI MINERACAO & CONSULTORIA LTDA  MINÉRIO DE COBRE   \n",
       "\n",
       "                   USO  UF    DSProcesso  \n",
       "2630      Revestimento  MG  830.191/2004  \n",
       "2631  Construção civil  MG  831.071/2017  \n",
       "2632        Industrial  MG  831.954/2023  \n",
       "2633        Industrial  MS  868.337/2021  \n",
       "2634        Industrial  MS  868.336/2021  "
      ]
     },
     "execution_count": 146,
     "metadata": {},
     "output_type": "execute_result"
    }
   ],
   "source": [
    "df_ind.tail()"
   ]
  },
  {
   "cell_type": "code",
   "execution_count": 147,
   "id": "3d1c5270-bf57-479f-8365-435d808b7430",
   "metadata": {},
   "outputs": [
    {
     "data": {
      "text/plain": [
       "(2635, 12)"
      ]
     },
     "execution_count": 147,
     "metadata": {},
     "output_type": "execute_result"
    }
   ],
   "source": [
    "df_ind.shape"
   ]
  },
  {
   "cell_type": "code",
   "execution_count": 148,
   "id": "4544d2de-2b0a-455d-892f-4edf85e4fc4a",
   "metadata": {},
   "outputs": [
    {
     "data": {
      "text/plain": [
       "PROCESSO       object\n",
       "NUMERO          int64\n",
       "ANO             int64\n",
       "AREA_HA       float64\n",
       "ID             object\n",
       "FASE           object\n",
       "ULT_EVENTO     object\n",
       "NOME           object\n",
       "SUBS           object\n",
       "USO            object\n",
       "UF             object\n",
       "DSProcesso     object\n",
       "dtype: object"
      ]
     },
     "execution_count": 148,
     "metadata": {},
     "output_type": "execute_result"
    }
   ],
   "source": [
    "df_ind.dtypes"
   ]
  },
  {
   "cell_type": "code",
   "execution_count": 149,
   "id": "085397e1-de38-44a5-b718-6b2046f90b02",
   "metadata": {},
   "outputs": [
    {
     "data": {
      "text/plain": [
       "2633"
      ]
     },
     "execution_count": 149,
     "metadata": {},
     "output_type": "execute_result"
    }
   ],
   "source": [
    "#The ID data confirms that 2,633 mining processes are located within Indigenous territories\n",
    "df_ind['ID'].nunique()"
   ]
  },
  {
   "cell_type": "code",
   "execution_count": 150,
   "id": "cd611b6b-ac58-4ea7-80a1-4adf48ae0013",
   "metadata": {},
   "outputs": [
    {
     "data": {
      "text/plain": [
       "np.int64(1941)"
      ]
     },
     "execution_count": 150,
     "metadata": {},
     "output_type": "execute_result"
    }
   ],
   "source": [
    "df_ind['ANO'].min()"
   ]
  },
  {
   "cell_type": "code",
   "execution_count": 151,
   "id": "8d86679a-1b53-4748-8ede-c345a3f1b781",
   "metadata": {},
   "outputs": [
    {
     "data": {
      "text/plain": [
       "np.int64(2025)"
      ]
     },
     "execution_count": 151,
     "metadata": {},
     "output_type": "execute_result"
    }
   ],
   "source": [
    "df_ind['ANO'].max()"
   ]
  },
  {
   "cell_type": "code",
   "execution_count": 11,
   "id": "39f490b0-828e-418b-a8f0-b34ab9802c2d",
   "metadata": {},
   "outputs": [
    {
     "data": {
      "text/plain": [
       "FASE\n",
       "REQUERIMENTO DE PESQUISA                1277\n",
       "AUTORIZAÇÃO DE PESQUISA                  587\n",
       "REQUERIMENTO DE LAVRA GARIMPEIRA         294\n",
       "APTO PARA DISPONIBILIDADE                126\n",
       "DISPONIBILIDADE                          102\n",
       "REQUERIMENTO DE LAVRA                     82\n",
       "CONCESSÃO DE LAVRA                        63\n",
       "LICENCIAMENTO                             34\n",
       "LAVRA GARIMPEIRA                          25\n",
       "REQUERIMENTO DE LICENCIAMENTO             24\n",
       "DIREITO DE REQUERER A LAVRA               16\n",
       "REQUERIMENTO DE REGISTRO DE EXTRAÇÃO       5\n",
       "Name: count, dtype: int64"
      ]
     },
     "execution_count": 11,
     "metadata": {},
     "output_type": "execute_result"
    }
   ],
   "source": [
    "#\"FASE\" refers to the stage of the mining process\n",
    "df_ind['FASE'].value_counts().sort_values(ascending=False)"
   ]
  },
  {
   "cell_type": "code",
   "execution_count": null,
   "id": "337cb925-63d8-452f-bb8c-3be7328d8b59",
   "metadata": {},
   "outputs": [],
   "source": [
    "# As we can see, the largest share of the data refers to \"Requerimento de Pesquisa\".\n",
    "# This stage occurs at the beginning of the mining process.\n",
    "# It basically involves individuals or companies requesting permission to explore specific areas for gold or other mineral resources.\n",
    "# More information available here: https://www.gov.br/anm/pt-br/assuntos/acesso-a-sistemas/requerimento-de-pesquisa"
   ]
  },
  {
   "cell_type": "code",
   "execution_count": 12,
   "id": "def44a89-987c-49ee-8f1f-b8d6b21a5bb5",
   "metadata": {},
   "outputs": [
    {
     "data": {
      "text/plain": [
       "USO\n",
       "Industrial               1368\n",
       "Demais substâncias        789\n",
       "Construção civil          237\n",
       "Revestimento               81\n",
       "DADO NÃO CADASTRADO        66\n",
       "Fertilizantes              36\n",
       "Gema                       18\n",
       "Brita                       7\n",
       "Engarrafamento              7\n",
       "Cerâmica vermelha           6\n",
       "Corretivo de solo           5\n",
       "Metalurgia                  4\n",
       "Fabricação de ligas         4\n",
       "Ourivesaria                 2\n",
       "Pedra de coleção            2\n",
       "Fabricação de cimento       2\n",
       "Energético                  1\n",
       "Name: count, dtype: int64"
      ]
     },
     "execution_count": 12,
     "metadata": {},
     "output_type": "execute_result"
    }
   ],
   "source": [
    "# \"USO\" means \"usage\". It refers to the intended purpose or destination of what is or will be extracted\n",
    "df_ind['USO'].value_counts().sort_values(ascending=False)"
   ]
  },
  {
   "cell_type": "code",
   "execution_count": 18,
   "id": "3abff00f-3e83-4fc6-897c-f172c6825e7f",
   "metadata": {},
   "outputs": [
    {
     "data": {
      "text/plain": [
       "SUBS\n",
       "MINÉRIO DE OURO        612\n",
       "OURO                   385\n",
       "AREIA                  259\n",
       "CASSITERITA            168\n",
       "MINÉRIO DE COBRE       148\n",
       "SAIS DE POTÁSSIO        73\n",
       "DADO NÃO CADASTRADO     66\n",
       "BAUXITA                 63\n",
       "GRANITO                 59\n",
       "COBRE                   52\n",
       "MINÉRIO DE FERRO        50\n",
       "DIAMANTE                43\n",
       "ARGILA                  41\n",
       "FOSFATO                 39\n",
       "MINÉRIO DE MANGANÊS     34\n",
       "MINÉRIO DE ESTANHO      31\n",
       "ZIRCÃO                  30\n",
       "NÍQUEL                  28\n",
       "AREIA DE FUNDIÇÃO       26\n",
       "MINÉRIO DE LÍTIO        23\n",
       "Name: count, dtype: int64"
      ]
     },
     "execution_count": 18,
     "metadata": {},
     "output_type": "execute_result"
    }
   ],
   "source": [
    "# \"SUBS\" indicates the mineral substance targeted for exploration by the companies\n",
    "df_ind['SUBS'].value_counts().sort_values(ascending=False).head(20)"
   ]
  },
  {
   "cell_type": "code",
   "execution_count": null,
   "id": "b13be077-3471-4db7-9d7c-163f6c56d79e",
   "metadata": {},
   "outputs": [],
   "source": [
    "# 'OURO' means gold. The top two substances are gold and gold ore, so I’ll group them together\n",
    "# I will do the same with other related materials."
   ]
  },
  {
   "cell_type": "code",
   "execution_count": 9,
   "id": "e3ccc6bb-f71f-44b2-91bb-52333b8186e3",
   "metadata": {},
   "outputs": [],
   "source": [
    "df_ind['SUBS'] = df_ind['SUBS'].str.replace('MINÉRIO DE OURO','Gold').str.replace('OURO','Gold')"
   ]
  },
  {
   "cell_type": "code",
   "execution_count": 10,
   "id": "454177fa-b3bb-47f0-a471-669d5938b5c9",
   "metadata": {},
   "outputs": [],
   "source": [
    "df_ind['SUBS'] = df_ind['SUBS'].str.replace('MINÉRIO DE COBRE','Copper').str.replace('COBRE','Copper')"
   ]
  },
  {
   "cell_type": "code",
   "execution_count": 11,
   "id": "e3fec8b8-8fd8-4122-b127-11d7b7b45b76",
   "metadata": {},
   "outputs": [],
   "source": [
    "df_ind['SUBS'] = df_ind['SUBS'].str.replace('AREIA', 'Sand').str.replace('CASSITERITA','Cassiterite')"
   ]
  },
  {
   "cell_type": "code",
   "execution_count": 12,
   "id": "e1f084cb-9005-4e44-83ec-f402d3daf7e2",
   "metadata": {},
   "outputs": [],
   "source": [
    "df_ind['SUBS'] = df_ind['SUBS'].str.replace('SAIS DE POTÁSSIO', 'Potassium salts').str.replace('BAUXITA', 'Bauxite')"
   ]
  },
  {
   "cell_type": "code",
   "execution_count": 13,
   "id": "6dff6c34-3f5f-4457-8b4d-383679d88871",
   "metadata": {},
   "outputs": [],
   "source": [
    "df_ind['SUBS'] = (df_ind['SUBS'].str.replace('DADO NÃO CADASTRADO', 'Null').str.replace('GRANITO', 'Granite')\n",
    "    .str.replace('MINÉRIO DE FERRO', 'Iron ore').str.replace('DIAMANTE', 'Diamond'))"
   ]
  },
  {
   "cell_type": "code",
   "execution_count": 14,
   "id": "db9adb8b-3e56-4ab1-9f44-cc1213587ff2",
   "metadata": {},
   "outputs": [],
   "source": [
    "df_ind['SUBS'].value_counts().sort_values(ascending=False).head(10).to_clipboard()"
   ]
  },
  {
   "cell_type": "code",
   "execution_count": 15,
   "id": "fca56e1d-b03e-4aac-b64f-0cea53a4199c",
   "metadata": {},
   "outputs": [
    {
     "data": {
      "text/plain": [
       "array(['Sand', 'ARGILA', 'RUTILO', 'Diamond', 'Gold', 'FOSFATO',\n",
       "       'TITÂNIO', 'ALUMÍNIO', 'GUANO', 'ESTANHO', 'LINHITO', 'TURFA',\n",
       "       'WOLFRAMITA', 'ENXOFRE', 'CROMO', 'PRATA', 'PLATINA',\n",
       "       'Cassiterite', 'TANTALITA', 'COLUMBITA', 'Bauxite', 'Null',\n",
       "       'CHUMBO', 'Potassium salts', 'MINÉRIO DE MANGANÊS', 'Iron ore',\n",
       "       'Copper', 'NÍQUEL', 'QUARTZITO', 'MINÉRIO DE ESTANHO',\n",
       "       'ÁGUA MARINHA', 'GIPSITA', 'MINÉRIO DE NÍQUEL', 'NIÓBIO',\n",
       "       'MINÉRIO DE NIÓBIO', 'GRAFITA', 'MINÉRIO DE TITÂNIO', 'ZINCO',\n",
       "       'MINÉRIO DE TÂNTALO', 'MINÉRIO DE ZINCO', 'CALCÁRIO',\n",
       "       'ARGILA REFRATÁRIA', 'SAIBRO', 'Granite', 'SODALITA', 'MÁRMORE',\n",
       "       'MANGANÊS', 'CONCHAS CALCÁRIAS', 'CALCÁRIO CORALÍNEO', 'BASALTO',\n",
       "       'ARENITO', 'VANÁDIO', 'HEMATITA', 'ÁGUA MINERAL', 'CAULIM',\n",
       "       'ZIRCONITA', 'TÂNTALO', 'ILMENITA', 'TUNGSTÊNIO', 'GNAISSE',\n",
       "       'QUARTZO', 'FELDSPATO', 'MINÉRIO DE LÍTIO', 'MINÉRIO DE BERÍLIO',\n",
       "       'BERILO', 'CALCÁRIO CALCÍTICO', 'Diamond INDUSTRIAL', 'FERRO',\n",
       "       'CASCALHO', 'SILVINITA', 'MAGNETITA', 'Sand DE FUNDIÇÃO',\n",
       "       'Sand QUARTZOSA', 'CORÍNDON', 'Granite P/ BRITA', 'DIATOMITO',\n",
       "       'DIABÁSIO', 'MINÉRIO DE ALUMÍNIO', 'TERRAS RARAS',\n",
       "       'Granite ORNAMENTAL', 'ZIRCÔNIO', 'ZIRCÃO', 'BERÍLIO',\n",
       "       'MOLIBDÊNIO', 'TITANITA', 'CALCÁRIO DOLOMÍTICO', 'ARDÓSIA',\n",
       "       'AMETISTA', 'TALCO', 'AMIANTO', 'Sand INDUSTRIAL', 'ANTRACITO',\n",
       "       'MINÉRIO DE CHUMBO'], dtype=object)"
      ]
     },
     "execution_count": 15,
     "metadata": {},
     "output_type": "execute_result"
    }
   ],
   "source": [
    "df_ind['SUBS'].unique()"
   ]
  },
  {
   "cell_type": "code",
   "execution_count": 234,
   "id": "e1ae4786-a2cf-4756-82be-f564b69ffc2b",
   "metadata": {},
   "outputs": [
    {
     "data": {
      "text/plain": [
       "93"
      ]
     },
     "execution_count": 234,
     "metadata": {},
     "output_type": "execute_result"
    }
   ],
   "source": [
    "df_ind['SUBS'].nunique()"
   ]
  },
  {
   "cell_type": "code",
   "execution_count": 241,
   "id": "9428d10b-ac34-4e2b-9d98-15690971e4a7",
   "metadata": {},
   "outputs": [
    {
     "data": {
      "text/plain": [
       "np.int64(2635)"
      ]
     },
     "execution_count": 241,
     "metadata": {},
     "output_type": "execute_result"
    }
   ],
   "source": [
    "df_ind['SUBS'].value_counts().sum() 1978"
   ]
  },
  {
   "cell_type": "code",
   "execution_count": 243,
   "id": "7fb6bd74-f73e-4f70-9c0c-668c26604244",
   "metadata": {},
   "outputs": [
    {
     "data": {
      "text/plain": [
       "np.int64(657)"
      ]
     },
     "execution_count": 243,
     "metadata": {},
     "output_type": "execute_result"
    }
   ],
   "source": [
    "df_ind['SUBS'].value_counts().sum() - df_ind['SUBS'].value_counts().head(10).sum()"
   ]
  },
  {
   "cell_type": "code",
   "execution_count": 19,
   "id": "39a433e6-f0be-436e-9d87-ebcd65b1cce6",
   "metadata": {},
   "outputs": [],
   "source": []
  },
  {
   "cell_type": "code",
   "execution_count": 21,
   "id": "215c829b-3f11-4d47-a19f-7c8819028a4e",
   "metadata": {},
   "outputs": [
    {
     "data": {
      "text/plain": [
       "UF\n",
       "PA                     846\n",
       "AM                     463\n",
       "MT                     228\n",
       "RR                     206\n",
       "RO                     169\n",
       "BA                     110\n",
       "MG                     103\n",
       "PR                      82\n",
       "SC                      81\n",
       "DADO NÃO CADASTRADO     66\n",
       "MS                      59\n",
       "SP                      47\n",
       "GO                      32\n",
       "PE                      30\n",
       "AP                      22\n",
       "TO                      16\n",
       "RS                      15\n",
       "ES                      14\n",
       "CE                      13\n",
       "PB                      11\n",
       "MA                      10\n",
       "AL                       8\n",
       "RJ                       4\n",
       "Name: count, dtype: int64"
      ]
     },
     "execution_count": 21,
     "metadata": {},
     "output_type": "execute_result"
    }
   ],
   "source": [
    "df_ind['UF'].value_counts().sort_values(ascending=False)"
   ]
  },
  {
   "cell_type": "code",
   "execution_count": 22,
   "id": "67437f9d-373f-4c07-a9a9-3fddbe6a95c5",
   "metadata": {},
   "outputs": [],
   "source": [
    "# The Amazonian states of PA, AM, and MT top the ranking for mining activities inside Indigenous lands\n",
    "# This aligns with what we know about the gold rush in the Brazilian Amazon"
   ]
  },
  {
   "cell_type": "code",
   "execution_count": 6,
   "id": "905a2214-c1ea-44de-afef-57ce2f640d34",
   "metadata": {},
   "outputs": [],
   "source": [
    "df_ind.rename(columns={'NOME':'Company', 'FASE':'Stage', 'UF':'State'}, inplace=True)"
   ]
  },
  {
   "cell_type": "code",
   "execution_count": 22,
   "id": "1a69f6ef-a11c-4484-a1ba-c9c52ba1a02a",
   "metadata": {},
   "outputs": [
    {
     "data": {
      "text/html": [
       "<div>\n",
       "<style scoped>\n",
       "    .dataframe tbody tr th:only-of-type {\n",
       "        vertical-align: middle;\n",
       "    }\n",
       "\n",
       "    .dataframe tbody tr th {\n",
       "        vertical-align: top;\n",
       "    }\n",
       "\n",
       "    .dataframe thead th {\n",
       "        text-align: right;\n",
       "    }\n",
       "</style>\n",
       "<table border=\"1\" class=\"dataframe\">\n",
       "  <thead>\n",
       "    <tr style=\"text-align: right;\">\n",
       "      <th></th>\n",
       "      <th>count</th>\n",
       "    </tr>\n",
       "    <tr>\n",
       "      <th>Company</th>\n",
       "      <th></th>\n",
       "    </tr>\n",
       "  </thead>\n",
       "  <tbody>\n",
       "    <tr>\n",
       "      <th>MINERACAO SILVANA INDUSTRIA E COMERCIO LTDA</th>\n",
       "      <td>106</td>\n",
       "    </tr>\n",
       "    <tr>\n",
       "      <th>ANGLO AMERICAN NIQUEL BRASIL LTDA</th>\n",
       "      <td>80</td>\n",
       "    </tr>\n",
       "    <tr>\n",
       "      <th>DADO NÃO CADASTRADO</th>\n",
       "      <td>66</td>\n",
       "    </tr>\n",
       "    <tr>\n",
       "      <th>RIO GRANDE MINERACAO S.A</th>\n",
       "      <td>61</td>\n",
       "    </tr>\n",
       "    <tr>\n",
       "      <th>VALE S.A.</th>\n",
       "      <td>59</td>\n",
       "    </tr>\n",
       "    <tr>\n",
       "      <th>Falcon Metais Ltda</th>\n",
       "      <td>56</td>\n",
       "    </tr>\n",
       "    <tr>\n",
       "      <th>Mamoré Mineração e Metalurgia Ltda</th>\n",
       "      <td>35</td>\n",
       "    </tr>\n",
       "    <tr>\n",
       "      <th>COOPERATIVA DOS GARIMPEIROS DA AMAZONIA - COOGAM</th>\n",
       "      <td>28</td>\n",
       "    </tr>\n",
       "    <tr>\n",
       "      <th>MINERACAO GUANHAES LTDA</th>\n",
       "      <td>27</td>\n",
       "    </tr>\n",
       "    <tr>\n",
       "      <th>Mineração Itamaracá Ltda.</th>\n",
       "      <td>27</td>\n",
       "    </tr>\n",
       "  </tbody>\n",
       "</table>\n",
       "</div>"
      ],
      "text/plain": [
       "                                                  count\n",
       "Company                                                \n",
       "MINERACAO SILVANA INDUSTRIA E COMERCIO LTDA         106\n",
       "ANGLO AMERICAN NIQUEL BRASIL LTDA                    80\n",
       "DADO NÃO CADASTRADO                                  66\n",
       "RIO GRANDE MINERACAO S.A                             61\n",
       "VALE S.A.                                            59\n",
       "Falcon Metais Ltda                                   56\n",
       "Mamoré Mineração e Metalurgia Ltda                   35\n",
       "COOPERATIVA DOS GARIMPEIROS DA AMAZONIA - COOGAM     28\n",
       "MINERACAO GUANHAES LTDA                              27\n",
       "Mineração Itamaracá Ltda.                            27"
      ]
     },
     "execution_count": 22,
     "metadata": {},
     "output_type": "execute_result"
    }
   ],
   "source": [
    "df_ind['Company'].value_counts().sort_values(ascending=False).head(10).to_frame()"
   ]
  },
  {
   "cell_type": "code",
   "execution_count": 17,
   "id": "122db46c-af14-49ed-99b2-51f12a07245d",
   "metadata": {},
   "outputs": [
    {
     "data": {
      "text/plain": [
       "Stage                             SUBS            \n",
       "REQUERIMENTO DE PESQUISA          Gold                598\n",
       "REQUERIMENTO DE LAVRA GARIMPEIRA  Gold                205\n",
       "AUTORIZAÇÃO DE PESQUISA           Gold                136\n",
       "REQUERIMENTO DE PESQUISA          Copper              118\n",
       "REQUERIMENTO DE LAVRA GARIMPEIRA  Cassiterite          70\n",
       "                                                     ... \n",
       "REQUERIMENTO DE LAVRA             Bauxite               1\n",
       "                                  ARDÓSIA               1\n",
       "AUTORIZAÇÃO DE PESQUISA           SAIBRO                1\n",
       "                                  Sand DE FUNDIÇÃO      1\n",
       "DISPONIBILIDADE                   Sand DE FUNDIÇÃO      1\n",
       "Name: count, Length: 220, dtype: int64"
      ]
     },
     "execution_count": 17,
     "metadata": {},
     "output_type": "execute_result"
    }
   ],
   "source": [
    "df_ind.groupby('Stage')['SUBS'].value_counts().sort_values(ascending=False)"
   ]
  },
  {
   "cell_type": "code",
   "execution_count": 28,
   "id": "00f96089-8f82-4941-9391-5afd01449ab2",
   "metadata": {},
   "outputs": [],
   "source": [
    "# We can see that the initial steps of mineral exploration are usually related to gold\n",
    "# However, there is also a considerable number of \"AUTORIZAÇÃO DE PESQUISA\" entries\n",
    "# \"AUTORIZAÇÃO DE PESQUISA\" means authorization to carry out work aimed at defining mineral veins\n",
    "# More information here: https://www.gov.br/anm/pt-br/assuntos/exploracao-mineral/regimes-de-exploracao-mineral/autorizacao-de-pesquisa"
   ]
  },
  {
   "cell_type": "code",
   "execution_count": 18,
   "id": "3c40704b-2734-4cfd-b6cf-f33d6834e398",
   "metadata": {},
   "outputs": [
    {
     "data": {
      "text/plain": [
       "State                SUBS           \n",
       "PA                   Gold               442\n",
       "AM                   Gold               145\n",
       "RR                   Gold               130\n",
       "MT                   Gold               124\n",
       "PA                   Copper             118\n",
       "RO                   Gold                98\n",
       "PR                   Sand                77\n",
       "PA                   Cassiterite         74\n",
       "AM                   Potassium salts     73\n",
       "DADO NÃO CADASTRADO  Null                66\n",
       "Name: count, dtype: int64"
      ]
     },
     "execution_count": 18,
     "metadata": {},
     "output_type": "execute_result"
    }
   ],
   "source": [
    "df_ind.groupby('State')['SUBS'].value_counts().sort_values(ascending=False).head(10)"
   ]
  },
  {
   "cell_type": "code",
   "execution_count": 31,
   "id": "a77817ae-2839-483c-9b8d-083cc1a43d18",
   "metadata": {},
   "outputs": [],
   "source": [
    "# Once again, the Amazonian states lead the ranking for gold mining-related activities"
   ]
  },
  {
   "cell_type": "code",
   "execution_count": 19,
   "id": "ef5337af-3b5a-484a-8ae4-42cd9d0b7006",
   "metadata": {},
   "outputs": [
    {
     "data": {
      "text/plain": [
       "Company                                           Stage                           \n",
       "MINERACAO SILVANA INDUSTRIA E COMERCIO LTDA       REQUERIMENTO DE PESQUISA            96\n",
       "RIO GRANDE MINERACAO S.A                          REQUERIMENTO DE PESQUISA            58\n",
       "DADO NÃO CADASTRADO                               DISPONIBILIDADE                     53\n",
       "Falcon Metais Ltda                                APTO PARA DISPONIBILIDADE           51\n",
       "ANGLO AMERICAN NIQUEL BRASIL LTDA                 REQUERIMENTO DE PESQUISA            49\n",
       "Mamoré Mineração e Metalurgia Ltda                REQUERIMENTO DE PESQUISA            35\n",
       "VALE S.A.                                         REQUERIMENTO DE PESQUISA            27\n",
       "Mineração Itamaracá Ltda.                         REQUERIMENTO DE PESQUISA            26\n",
       "VALE S.A.                                         AUTORIZAÇÃO DE PESQUISA             26\n",
       "COOPERATIVA DOS GARIMPEIROS DA AMAZONIA - COOGAM  REQUERIMENTO DE LAVRA GARIMPEIRA    26\n",
       "Joari Sociedade de Mineração Joari Ltda           REQUERIMENTO DE PESQUISA            22\n",
       "MINERACAO GUANHAES LTDA                           REQUERIMENTO DE PESQUISA            21\n",
       "EMPRESA DE MINERAÇÃO GALESA LTDA                  REQUERIMENTO DE PESQUISA            19\n",
       "ANGLO AMERICAN NIQUEL BRASIL LTDA                 AUTORIZAÇÃO DE PESQUISA             18\n",
       "GALENA MINERAÇÃO INDUSTRIA E COMÉRCIO   LTDA      REQUERIMENTO DE PESQUISA            16\n",
       "Name: count, dtype: int64"
      ]
     },
     "execution_count": 19,
     "metadata": {},
     "output_type": "execute_result"
    }
   ],
   "source": [
    "df_ind.groupby('Company')['Stage'].value_counts().sort_values(ascending=False).head(15)"
   ]
  },
  {
   "cell_type": "code",
   "execution_count": 34,
   "id": "3c8c57d2-4631-4226-af31-27c1f5686ccf",
   "metadata": {},
   "outputs": [
    {
     "data": {
      "text/plain": [
       "ULT_EVENTO\n",
       "157 - REQ PESQ/DESISTÊNCIA REQUERIMENTO PESQUISA HOMOLOGADA PUBL EM 15/04/2021      78\n",
       "157 - REQ PESQ/DESISTÊNCIA REQUERIMENTO PESQUISA HOMOLOGADA PUBL EM 21/09/2018      52\n",
       "2481 - AUT PESQ/VENCIMENTO ALVARÁ ALTERADO RESOLUÇÃO 76/2021-COVID EM 01/10/2021    45\n",
       "131 - REQ PESQ/EXIGÊNCIA PUBL EM 17/12/2019                                         42\n",
       "1356 - REQ PESQ/RECURSO PROTOC EM 21/10/2022                                        37\n",
       "                                                                                    ..\n",
       "333 - REQ PLG/REQUERIMENTO LAVRA GARIMPEIRA PROTOC EM 13/11/2020                     1\n",
       "100 - REQ PESQ/REQUERIMENTO PESQUISA PROTOC EM 17/04/1984                            1\n",
       "264 - AUT PESQ/TAH - PAGAMENTO EFETUADO EM 07/01/2022                                1\n",
       "209 - AUT PESQ/INÍCIO DE PESQUISA COMUNICADO PROTOC EM 19/02/2025                    1\n",
       "2619 - AUT PESQ/GUIA DE UTILIZAÇÃO PFM PROTOC EM 09/05/2025                          1\n",
       "Name: count, Length: 1254, dtype: int64"
      ]
     },
     "execution_count": 34,
     "metadata": {},
     "output_type": "execute_result"
    }
   ],
   "source": [
    "# \"ULT_EVENTO\" refers to the most recent action taken within a mining process\n",
    "# The number of withdrawals (DESISTENCIA) is somewhat intriguing\n",
    "df_ind['ULT_EVENTO'].value_counts().sort_values(ascending=False)"
   ]
  },
  {
   "cell_type": "code",
   "execution_count": 37,
   "id": "4dac0d82-8dbf-4b01-81fd-8d8642b0b386",
   "metadata": {},
   "outputs": [
    {
     "data": {
      "text/plain": [
       "np.float64(5821913.32)"
      ]
     },
     "execution_count": 37,
     "metadata": {},
     "output_type": "execute_result"
    }
   ],
   "source": [
    "df_ind['AREA_HA'].sum()"
   ]
  },
  {
   "cell_type": "code",
   "execution_count": 245,
   "id": "4fea3383-5716-453b-ae97-df3affda6302",
   "metadata": {},
   "outputs": [
    {
     "data": {
      "text/plain": [
       "SUBS\n",
       "Gold                   2617494.95\n",
       "Copper                  525849.65\n",
       "Cassiterite             474367.63\n",
       "Potassium salts         307989.53\n",
       "Bauxite                 293217.52\n",
       "                          ...    \n",
       "CALCÁRIO DOLOMÍTICO         98.90\n",
       "Sand INDUSTRIAL             50.00\n",
       "Granite P/ BRITA            36.00\n",
       "DIABÁSIO                    27.63\n",
       "ARENITO                     17.64\n",
       "Name: AREA_HA, Length: 93, dtype: float64"
      ]
     },
     "execution_count": 245,
     "metadata": {},
     "output_type": "execute_result"
    }
   ],
   "source": [
    "df_ind.groupby('SUBS')['AREA_HA'].sum().sort_values(ascending=False)"
   ]
  },
  {
   "cell_type": "code",
   "execution_count": 20,
   "id": "dd761296-bb6e-42f7-95ab-924204bec081",
   "metadata": {},
   "outputs": [
    {
     "data": {
      "text/plain": [
       "Company\n",
       "MINERACAO SILVANA INDUSTRIA E COMERCIO LTDA    268703.76\n",
       "RIO GRANDE MINERACAO S.A                       248864.38\n",
       "Falcon Metais Ltda                             232938.51\n",
       "VALE S.A.                                      175095.54\n",
       "ANGLO AMERICAN NIQUEL BRASIL LTDA              162783.58\n",
       "                                                 ...    \n",
       "Edivaldo Alexandre Nunes Me                         2.62\n",
       "MINERAÇÕES URANO LTDA                               2.48\n",
       "MIKAEL LUIZ FERNANDES PINTO                         2.31\n",
       "RAIMUNDO FERREIRA DIAS                              1.43\n",
       "JEANN SOUZA RIBEIRO                                 0.07\n",
       "Name: AREA_HA, Length: 881, dtype: float64"
      ]
     },
     "execution_count": 20,
     "metadata": {},
     "output_type": "execute_result"
    }
   ],
   "source": [
    "df_ind.groupby('Company')['AREA_HA'].sum().sort_values(ascending=False)"
   ]
  },
  {
   "cell_type": "code",
   "execution_count": 183,
   "id": "737fc306-8ec0-4403-9ac7-0c541c299b76",
   "metadata": {
    "scrolled": true
   },
   "outputs": [
    {
     "data": {
      "text/html": [
       "<div>\n",
       "<style scoped>\n",
       "    .dataframe tbody tr th:only-of-type {\n",
       "        vertical-align: middle;\n",
       "    }\n",
       "\n",
       "    .dataframe tbody tr th {\n",
       "        vertical-align: top;\n",
       "    }\n",
       "\n",
       "    .dataframe thead th {\n",
       "        text-align: right;\n",
       "    }\n",
       "</style>\n",
       "<table border=\"1\" class=\"dataframe\">\n",
       "  <thead>\n",
       "    <tr style=\"text-align: right;\">\n",
       "      <th></th>\n",
       "      <th>count</th>\n",
       "    </tr>\n",
       "    <tr>\n",
       "      <th>ANO</th>\n",
       "      <th></th>\n",
       "    </tr>\n",
       "  </thead>\n",
       "  <tbody>\n",
       "    <tr>\n",
       "      <th>2011</th>\n",
       "      <td>133</td>\n",
       "    </tr>\n",
       "    <tr>\n",
       "      <th>2008</th>\n",
       "      <td>132</td>\n",
       "    </tr>\n",
       "    <tr>\n",
       "      <th>1996</th>\n",
       "      <td>128</td>\n",
       "    </tr>\n",
       "    <tr>\n",
       "      <th>2021</th>\n",
       "      <td>108</td>\n",
       "    </tr>\n",
       "    <tr>\n",
       "      <th>2016</th>\n",
       "      <td>108</td>\n",
       "    </tr>\n",
       "    <tr>\n",
       "      <th>2013</th>\n",
       "      <td>105</td>\n",
       "    </tr>\n",
       "    <tr>\n",
       "      <th>1994</th>\n",
       "      <td>103</td>\n",
       "    </tr>\n",
       "    <tr>\n",
       "      <th>1984</th>\n",
       "      <td>101</td>\n",
       "    </tr>\n",
       "    <tr>\n",
       "      <th>2019</th>\n",
       "      <td>96</td>\n",
       "    </tr>\n",
       "    <tr>\n",
       "      <th>2020</th>\n",
       "      <td>92</td>\n",
       "    </tr>\n",
       "    <tr>\n",
       "      <th>2015</th>\n",
       "      <td>91</td>\n",
       "    </tr>\n",
       "    <tr>\n",
       "      <th>2018</th>\n",
       "      <td>87</td>\n",
       "    </tr>\n",
       "    <tr>\n",
       "      <th>2014</th>\n",
       "      <td>80</td>\n",
       "    </tr>\n",
       "    <tr>\n",
       "      <th>2023</th>\n",
       "      <td>79</td>\n",
       "    </tr>\n",
       "    <tr>\n",
       "      <th>2005</th>\n",
       "      <td>77</td>\n",
       "    </tr>\n",
       "  </tbody>\n",
       "</table>\n",
       "</div>"
      ],
      "text/plain": [
       "      count\n",
       "ANO        \n",
       "2011    133\n",
       "2008    132\n",
       "1996    128\n",
       "2021    108\n",
       "2016    108\n",
       "2013    105\n",
       "1994    103\n",
       "1984    101\n",
       "2019     96\n",
       "2020     92\n",
       "2015     91\n",
       "2018     87\n",
       "2014     80\n",
       "2023     79\n",
       "2005     77"
      ]
     },
     "execution_count": 183,
     "metadata": {},
     "output_type": "execute_result"
    }
   ],
   "source": [
    "# ANO refers to Year\n",
    "df_ind['ANO'].value_counts().sort_values(ascending=False).head(15).to_frame()"
   ]
  },
  {
   "cell_type": "code",
   "execution_count": 182,
   "id": "c2db344a-b426-4eff-a95d-88595ed8f689",
   "metadata": {},
   "outputs": [
    {
     "name": "stderr",
     "output_type": "stream",
     "text": [
      "python3.12(80508) MallocStackLogging: can't turn off malloc stack logging because it was not enabled.\n"
     ]
    }
   ],
   "source": [
    "df_ind['ANO'].value_counts().sort_values(ascending=False).head(10).to_frame().to_clipboard()"
   ]
  },
  {
   "cell_type": "code",
   "execution_count": 47,
   "id": "68c3ee57-64eb-40a4-8580-602af7f6e8b5",
   "metadata": {},
   "outputs": [],
   "source": [
    "import matplotlib.pyplot as plt\n",
    "import numpy as np"
   ]
  },
  {
   "cell_type": "code",
   "execution_count": 90,
   "id": "84aa495c-d20b-4d17-ac6a-b56ec3181e4f",
   "metadata": {},
   "outputs": [
    {
     "data": {
      "text/plain": [
       "ANO\n",
       "2011    0.050474\n",
       "2008    0.050095\n",
       "1996    0.048577\n",
       "2021    0.040987\n",
       "2016    0.040987\n",
       "2013    0.039848\n",
       "1994    0.039089\n",
       "1984    0.038330\n",
       "2019    0.036433\n",
       "2020    0.034915\n",
       "2015    0.034535\n",
       "2018    0.033017\n",
       "2014    0.030361\n",
       "2023    0.029981\n",
       "2005    0.029222\n",
       "2022    0.028843\n",
       "1995    0.028843\n",
       "2017    0.028843\n",
       "1983    0.028463\n",
       "2010    0.028083\n",
       "2006    0.028083\n",
       "1993    0.026945\n",
       "2012    0.025806\n",
       "2024    0.023529\n",
       "2009    0.020493\n",
       "2007    0.014042\n",
       "2003    0.013283\n",
       "2025    0.012903\n",
       "1985    0.012144\n",
       "1997    0.011765\n",
       "1987    0.010626\n",
       "2001    0.009108\n",
       "2004    0.006072\n",
       "1989    0.005693\n",
       "1992    0.005693\n",
       "1998    0.005313\n",
       "1982    0.005313\n",
       "2002    0.005313\n",
       "1988    0.004554\n",
       "1986    0.004175\n",
       "1990    0.003795\n",
       "2000    0.003416\n",
       "1981    0.003416\n",
       "1980    0.003036\n",
       "1991    0.002657\n",
       "1978    0.001898\n",
       "1999    0.001518\n",
       "1972    0.001518\n",
       "1979    0.001139\n",
       "1965    0.001139\n",
       "1977    0.001139\n",
       "1976    0.000759\n",
       "1960    0.000759\n",
       "1973    0.000759\n",
       "1941    0.000380\n",
       "1974    0.000380\n",
       "1975    0.000380\n",
       "1956    0.000380\n",
       "1970    0.000380\n",
       "1952    0.000380\n",
       "Name: proportion, dtype: float64"
      ]
     },
     "execution_count": 90,
     "metadata": {},
     "output_type": "execute_result"
    }
   ],
   "source": [
    "df_ind['ANO'].value_counts(normalize=True).sort_values(ascending=False)"
   ]
  },
  {
   "cell_type": "code",
   "execution_count": 86,
   "id": "753c7df8-a5f7-481c-89a1-21bb5b931646",
   "metadata": {},
   "outputs": [
    {
     "data": {
      "text/plain": [
       "ANO\n",
       "2011    133\n",
       "2016    108\n",
       "2021    108\n",
       "2013    105\n",
       "2019     96\n",
       "2020     92\n",
       "2015     91\n",
       "2018     87\n",
       "2014     80\n",
       "2023     79\n",
       "2017     76\n",
       "2022     76\n",
       "2012     68\n",
       "2024     62\n",
       "2025     34\n",
       "Name: count, dtype: int64"
      ]
     },
     "execution_count": 86,
     "metadata": {},
     "output_type": "execute_result"
    }
   ],
   "source": [
    "df_ind['ANO'][df_ind['ANO']>2010].value_counts().sort_values(ascending=False)"
   ]
  },
  {
   "cell_type": "code",
   "execution_count": 94,
   "id": "64e5da28-5838-4959-bac0-19f93ede48e0",
   "metadata": {},
   "outputs": [],
   "source": [
    "total_mining_ind_land = df_ind['ANO'].value_counts().sum()"
   ]
  },
  {
   "cell_type": "code",
   "execution_count": 95,
   "id": "6f4bc291-a640-4145-84c9-2165b6bad12b",
   "metadata": {},
   "outputs": [],
   "source": [
    "mining_ind_land_pos_2010 = df_ind['ANO'][df_ind['ANO']>2010].value_counts().sum()"
   ]
  },
  {
   "cell_type": "code",
   "execution_count": 97,
   "id": "aae720b2-e4ff-41a1-bdb1-9502017a4820",
   "metadata": {},
   "outputs": [
    {
     "data": {
      "text/plain": [
       "np.float64(0.49146110056925996)"
      ]
     },
     "execution_count": 97,
     "metadata": {},
     "output_type": "execute_result"
    }
   ],
   "source": [
    "# Now, it’s worth examining how many of these processes are recent.\n",
    "perc_pos_2010 = mining_ind_land_pos_2010/total_mining_ind_land\n",
    "perc_pos_2010"
   ]
  },
  {
   "cell_type": "markdown",
   "id": "1ce4f26b-e99e-425d-8d47-a25a375a538e",
   "metadata": {},
   "source": [
    "## Combined Output Dataset: Mining Camps and Indigenous Lands\n",
    "\n",
    "I’ve now imported two new CSV files. The first is a simple reference to verify the approximate number of Indigenous lands in Brazil.\n",
    "The second, which I generated using QGIS, includes not only details about the mining processes (as in the original dataset) but also information about the Indigenous lands where those processes are occurring. While I could have combined everything into a single CSV, I chose to conduct the analysis in two parts for clarity and flexibility."
   ]
  },
  {
   "cell_type": "code",
   "execution_count": 161,
   "id": "39606c61-8c16-4f73-bd42-2d92904f94b5",
   "metadata": {},
   "outputs": [],
   "source": [
    "df_lands_info = pd.read_csv('ind_lands_data.csv')"
   ]
  },
  {
   "cell_type": "code",
   "execution_count": 162,
   "id": "146f63ea-f11d-4ed8-bff5-b3d31e8854ae",
   "metadata": {},
   "outputs": [
    {
     "data": {
      "text/html": [
       "<div>\n",
       "<style scoped>\n",
       "    .dataframe tbody tr th:only-of-type {\n",
       "        vertical-align: middle;\n",
       "    }\n",
       "\n",
       "    .dataframe tbody tr th {\n",
       "        vertical-align: top;\n",
       "    }\n",
       "\n",
       "    .dataframe thead th {\n",
       "        text-align: right;\n",
       "    }\n",
       "</style>\n",
       "<table border=\"1\" class=\"dataframe\">\n",
       "  <thead>\n",
       "    <tr style=\"text-align: right;\">\n",
       "      <th></th>\n",
       "      <th>gid</th>\n",
       "      <th>terrai_cod</th>\n",
       "      <th>terrai_nom</th>\n",
       "      <th>etnia_nome</th>\n",
       "      <th>municipio_</th>\n",
       "      <th>uf_sigla</th>\n",
       "      <th>superficie</th>\n",
       "      <th>fase_ti</th>\n",
       "      <th>modalidade</th>\n",
       "      <th>reestudo_t</th>\n",
       "      <th>cr</th>\n",
       "      <th>faixa_fron</th>\n",
       "      <th>undadm_cod</th>\n",
       "      <th>undadm_nom</th>\n",
       "      <th>undadm_sig</th>\n",
       "      <th>dominio_un</th>\n",
       "      <th>data_atual</th>\n",
       "      <th>epsg</th>\n",
       "    </tr>\n",
       "  </thead>\n",
       "  <tbody>\n",
       "    <tr>\n",
       "      <th>0</th>\n",
       "      <td>1</td>\n",
       "      <td>101</td>\n",
       "      <td>Acapuri de Cima</td>\n",
       "      <td>Kokama</td>\n",
       "      <td>Fonte Boa</td>\n",
       "      <td>AM</td>\n",
       "      <td>18393.9411</td>\n",
       "      <td>Regularizada</td>\n",
       "      <td>Tradicionalmente ocupada</td>\n",
       "      <td>NaN</td>\n",
       "      <td>COORDENACAO REGIONAL DO ALTO SOLIMOES</td>\n",
       "      <td>N�o</td>\n",
       "      <td>30202001857</td>\n",
       "      <td>COORDENACAO REGIONAL DO ALTO SOLIMOES</td>\n",
       "      <td>CR-AS</td>\n",
       "      <td>t</td>\n",
       "      <td>05/09/2023</td>\n",
       "      <td>0</td>\n",
       "    </tr>\n",
       "    <tr>\n",
       "      <th>1</th>\n",
       "      <td>2</td>\n",
       "      <td>201</td>\n",
       "      <td>Acim�</td>\n",
       "      <td>Apurin�</td>\n",
       "      <td>L�brea</td>\n",
       "      <td>AM</td>\n",
       "      <td>40686.0340</td>\n",
       "      <td>Regularizada</td>\n",
       "      <td>Tradicionalmente ocupada</td>\n",
       "      <td>NaN</td>\n",
       "      <td>COORDENACAO REGIONAL M�DIO PURUS</td>\n",
       "      <td>N�o</td>\n",
       "      <td>30202001878</td>\n",
       "      <td>COORDENACAO REGIONAL M�DIO PURUS</td>\n",
       "      <td>CR-Mpur</td>\n",
       "      <td>t</td>\n",
       "      <td>NaN</td>\n",
       "      <td>0</td>\n",
       "    </tr>\n",
       "    <tr>\n",
       "      <th>2</th>\n",
       "      <td>3</td>\n",
       "      <td>401</td>\n",
       "      <td>�gua Preta/Inari</td>\n",
       "      <td>Apurin�</td>\n",
       "      <td>Pauini</td>\n",
       "      <td>AM</td>\n",
       "      <td>139763.6705</td>\n",
       "      <td>Regularizada</td>\n",
       "      <td>Tradicionalmente ocupada</td>\n",
       "      <td>NaN</td>\n",
       "      <td>COORDENACAO REGIONAL M�DIO PURUS</td>\n",
       "      <td>N�o</td>\n",
       "      <td>30202001878</td>\n",
       "      <td>COORDENACAO REGIONAL M�DIO PURUS</td>\n",
       "      <td>CR-Mpur</td>\n",
       "      <td>t</td>\n",
       "      <td>NaN</td>\n",
       "      <td>0</td>\n",
       "    </tr>\n",
       "    <tr>\n",
       "      <th>3</th>\n",
       "      <td>4</td>\n",
       "      <td>501</td>\n",
       "      <td>�guas Belas</td>\n",
       "      <td>Patax�</td>\n",
       "      <td>Prado</td>\n",
       "      <td>BA</td>\n",
       "      <td>1189.0649</td>\n",
       "      <td>Regularizada</td>\n",
       "      <td>Tradicionalmente ocupada</td>\n",
       "      <td>NaN</td>\n",
       "      <td>COORDENACAO REGIONAL SUL DA BAHIA</td>\n",
       "      <td>N�o</td>\n",
       "      <td>30202001990</td>\n",
       "      <td>COORDENACAO REGIONAL SUL DA BAHIA</td>\n",
       "      <td>CR-SBA</td>\n",
       "      <td>t</td>\n",
       "      <td>NaN</td>\n",
       "      <td>0</td>\n",
       "    </tr>\n",
       "    <tr>\n",
       "      <th>4</th>\n",
       "      <td>5</td>\n",
       "      <td>601</td>\n",
       "      <td>Acon�</td>\n",
       "      <td>Tingui-Bot�</td>\n",
       "      <td>Traipu</td>\n",
       "      <td>AL</td>\n",
       "      <td>267.7862</td>\n",
       "      <td>Regularizada</td>\n",
       "      <td>Reserva Ind�gena</td>\n",
       "      <td>NaN</td>\n",
       "      <td>COORDENACAO REGIONAL NORDESTE I</td>\n",
       "      <td>N�o</td>\n",
       "      <td>30202001969</td>\n",
       "      <td>COORDENACAO REGIONAL NORDESTE I</td>\n",
       "      <td>CR-NE-I</td>\n",
       "      <td>t</td>\n",
       "      <td>NaN</td>\n",
       "      <td>0</td>\n",
       "    </tr>\n",
       "  </tbody>\n",
       "</table>\n",
       "</div>"
      ],
      "text/plain": [
       "   gid  terrai_cod        terrai_nom   etnia_nome municipio_ uf_sigla  \\\n",
       "0    1         101   Acapuri de Cima       Kokama  Fonte Boa       AM   \n",
       "1    2         201             Acim�      Apurin�     L�brea       AM   \n",
       "2    3         401  �gua Preta/Inari      Apurin�     Pauini       AM   \n",
       "3    4         501       �guas Belas       Patax�      Prado       BA   \n",
       "4    5         601             Acon�  Tingui-Bot�     Traipu       AL   \n",
       "\n",
       "    superficie       fase_ti                modalidade reestudo_t  \\\n",
       "0   18393.9411  Regularizada  Tradicionalmente ocupada        NaN   \n",
       "1   40686.0340  Regularizada  Tradicionalmente ocupada        NaN   \n",
       "2  139763.6705  Regularizada  Tradicionalmente ocupada        NaN   \n",
       "3    1189.0649  Regularizada  Tradicionalmente ocupada        NaN   \n",
       "4     267.7862  Regularizada          Reserva Ind�gena        NaN   \n",
       "\n",
       "                                      cr faixa_fron   undadm_cod  \\\n",
       "0  COORDENACAO REGIONAL DO ALTO SOLIMOES        N�o  30202001857   \n",
       "1       COORDENACAO REGIONAL M�DIO PURUS        N�o  30202001878   \n",
       "2       COORDENACAO REGIONAL M�DIO PURUS        N�o  30202001878   \n",
       "3      COORDENACAO REGIONAL SUL DA BAHIA        N�o  30202001990   \n",
       "4        COORDENACAO REGIONAL NORDESTE I        N�o  30202001969   \n",
       "\n",
       "                              undadm_nom undadm_sig dominio_un  data_atual  \\\n",
       "0  COORDENACAO REGIONAL DO ALTO SOLIMOES      CR-AS          t  05/09/2023   \n",
       "1       COORDENACAO REGIONAL M�DIO PURUS    CR-Mpur          t         NaN   \n",
       "2       COORDENACAO REGIONAL M�DIO PURUS    CR-Mpur          t         NaN   \n",
       "3      COORDENACAO REGIONAL SUL DA BAHIA     CR-SBA          t         NaN   \n",
       "4        COORDENACAO REGIONAL NORDESTE I    CR-NE-I          t         NaN   \n",
       "\n",
       "   epsg  \n",
       "0     0  \n",
       "1     0  \n",
       "2     0  \n",
       "3     0  \n",
       "4     0  "
      ]
     },
     "execution_count": 162,
     "metadata": {},
     "output_type": "execute_result"
    }
   ],
   "source": [
    "df_lands_info.head()"
   ]
  },
  {
   "cell_type": "code",
   "execution_count": 170,
   "id": "9d69da5f-ce53-4666-93cd-dba4a8b98947",
   "metadata": {},
   "outputs": [
    {
     "data": {
      "text/plain": [
       "data_atual\n",
       "03/04/2020    19\n",
       "02/04/2020    16\n",
       "04/12/2018    13\n",
       "31/03/2020     8\n",
       "21/07/2025     7\n",
       "              ..\n",
       "12/07/2019     1\n",
       "11/10/2019     1\n",
       "09/08/2021     1\n",
       "03/07/2020     1\n",
       "13/06/2025     1\n",
       "Name: count, Length: 294, dtype: int64"
      ]
     },
     "execution_count": 170,
     "metadata": {},
     "output_type": "execute_result"
    }
   ],
   "source": [
    "# Checking how recent the available data is\n",
    "df_lands_info['data_atual'].value_counts().sort_values(ascending=False)"
   ]
  },
  {
   "cell_type": "code",
   "execution_count": 163,
   "id": "e691152e-dff4-4bc9-8dcb-4e05d0fde5cb",
   "metadata": {},
   "outputs": [
    {
     "data": {
      "text/plain": [
       "638"
      ]
     },
     "execution_count": 163,
     "metadata": {},
     "output_type": "execute_result"
    }
   ],
   "source": [
    "df_lands_info['terrai_cod'].nunique()"
   ]
  },
  {
   "cell_type": "code",
   "execution_count": 172,
   "id": "01208975-2f21-421a-8eba-c9d931b24476",
   "metadata": {},
   "outputs": [
    {
     "data": {
      "text/plain": [
       "fase_ti\n",
       "Regularizada      490\n",
       "Declarada          70\n",
       "Delimitada         37\n",
       "Encaminhada RI     24\n",
       "Homologada         11\n",
       "Em Estudo           6\n",
       "Name: count, dtype: int64"
      ]
     },
     "execution_count": 172,
     "metadata": {},
     "output_type": "execute_result"
    }
   ],
   "source": [
    "df_lands_info['fase_ti'].value_counts().sort_values(ascending=False)"
   ]
  },
  {
   "cell_type": "code",
   "execution_count": 177,
   "id": "720cb9a5-a185-41d1-b4c9-94345260e4dc",
   "metadata": {},
   "outputs": [
    {
     "data": {
      "text/plain": [
       "uf_sigla\n",
       "AM          141\n",
       "MT           65\n",
       "PA           51\n",
       "MS           49\n",
       "RS           30\n",
       "AC           30\n",
       "RR           30\n",
       "SP           29\n",
       "BA           26\n",
       "PR           24\n",
       "SC           24\n",
       "MA           20\n",
       "RO           19\n",
       "MG           16\n",
       "PE           15\n",
       "AL           11\n",
       "TO           10\n",
       "CE            8\n",
       "GO            6\n",
       "AP            4\n",
       "RJ            4\n",
       "PB            3\n",
       "PA,MT         3\n",
       "ES            3\n",
       "MT,PA         2\n",
       "AM,PA         2\n",
       "RO,MT         2\n",
       "RR,AM         2\n",
       "PR,SC         1\n",
       "RR,AM,PA      1\n",
       "AP,PA         1\n",
       "MT,RO         1\n",
       "SE            1\n",
       "TO,PA         1\n",
       "AM,AC         1\n",
       "AM,RO         1\n",
       "PI            1\n",
       "Name: count, dtype: int64"
      ]
     },
     "execution_count": 177,
     "metadata": {},
     "output_type": "execute_result"
    }
   ],
   "source": [
    "df_lands_info['uf_sigla'].value_counts().sort_values(ascending=False)"
   ]
  },
  {
   "cell_type": "code",
   "execution_count": 176,
   "id": "8bc595af-5948-4810-931b-dcb5c9a93a58",
   "metadata": {},
   "outputs": [
    {
     "data": {
      "text/plain": [
       "np.False_"
      ]
     },
     "execution_count": 176,
     "metadata": {},
     "output_type": "execute_result"
    }
   ],
   "source": [
    "df_lands_info['fase_ti'].isna().any()"
   ]
  },
  {
   "cell_type": "code",
   "execution_count": 155,
   "id": "ce546b87-91bf-4aa3-a1fb-2faca21b87fa",
   "metadata": {},
   "outputs": [],
   "source": [
    "df_ind_info = pd.read_csv('intersection_mining_ind.csv')"
   ]
  },
  {
   "cell_type": "code",
   "execution_count": 156,
   "id": "1e35226e-c4c7-46e3-abd4-2376645628cf",
   "metadata": {},
   "outputs": [
    {
     "data": {
      "text/plain": [
       "(2842, 30)"
      ]
     },
     "execution_count": 156,
     "metadata": {},
     "output_type": "execute_result"
    }
   ],
   "source": [
    "df_ind_info.shape"
   ]
  },
  {
   "cell_type": "code",
   "execution_count": 157,
   "id": "69857ca7-fcdc-45d5-8454-72f31e245a52",
   "metadata": {},
   "outputs": [
    {
     "data": {
      "text/html": [
       "<div>\n",
       "<style scoped>\n",
       "    .dataframe tbody tr th:only-of-type {\n",
       "        vertical-align: middle;\n",
       "    }\n",
       "\n",
       "    .dataframe tbody tr th {\n",
       "        vertical-align: top;\n",
       "    }\n",
       "\n",
       "    .dataframe thead th {\n",
       "        text-align: right;\n",
       "    }\n",
       "</style>\n",
       "<table border=\"1\" class=\"dataframe\">\n",
       "  <thead>\n",
       "    <tr style=\"text-align: right;\">\n",
       "      <th></th>\n",
       "      <th>gid</th>\n",
       "      <th>terrai_cod</th>\n",
       "      <th>terrai_nom</th>\n",
       "      <th>etnia_nome</th>\n",
       "      <th>municipio_</th>\n",
       "      <th>uf_sigla</th>\n",
       "      <th>superficie</th>\n",
       "      <th>fase_ti</th>\n",
       "      <th>modalidade</th>\n",
       "      <th>reestudo_t</th>\n",
       "      <th>...</th>\n",
       "      <th>ANO</th>\n",
       "      <th>AREA_HA</th>\n",
       "      <th>ID</th>\n",
       "      <th>FASE</th>\n",
       "      <th>ULT_EVENTO</th>\n",
       "      <th>NOME</th>\n",
       "      <th>SUBS</th>\n",
       "      <th>USO</th>\n",
       "      <th>UF</th>\n",
       "      <th>DSProcesso</th>\n",
       "    </tr>\n",
       "  </thead>\n",
       "  <tbody>\n",
       "    <tr>\n",
       "      <th>0</th>\n",
       "      <td>8</td>\n",
       "      <td>901</td>\n",
       "      <td>Aldeia Velha</td>\n",
       "      <td>Patax�</td>\n",
       "      <td>Porto Seguro</td>\n",
       "      <td>BA</td>\n",
       "      <td>1997.5526</td>\n",
       "      <td>Regularizada</td>\n",
       "      <td>Tradicionalmente ocupada</td>\n",
       "      <td>NaN</td>\n",
       "      <td>...</td>\n",
       "      <td>2014</td>\n",
       "      <td>23.99</td>\n",
       "      <td>{4B604FB0-F71B-4748-B09E-43AADDC484B9}</td>\n",
       "      <td>AUTORIZAÇÃO DE PESQUISA</td>\n",
       "      <td>178 - AUT PESQ/TAH - NOTIFICAÇÃO ADMINISTRATIV...</td>\n",
       "      <td>Marcondes Nogueira Beneficiamentos Ltda Me</td>\n",
       "      <td>AREIA</td>\n",
       "      <td>Construção civil</td>\n",
       "      <td>BA</td>\n",
       "      <td>871.501/2014</td>\n",
       "    </tr>\n",
       "    <tr>\n",
       "      <th>1</th>\n",
       "      <td>8</td>\n",
       "      <td>901</td>\n",
       "      <td>Aldeia Velha</td>\n",
       "      <td>Patax�</td>\n",
       "      <td>Porto Seguro</td>\n",
       "      <td>BA</td>\n",
       "      <td>1997.5526</td>\n",
       "      <td>Regularizada</td>\n",
       "      <td>Tradicionalmente ocupada</td>\n",
       "      <td>NaN</td>\n",
       "      <td>...</td>\n",
       "      <td>2012</td>\n",
       "      <td>48.11</td>\n",
       "      <td>{97AD657E-BB79-497E-917D-3BE34F296840}</td>\n",
       "      <td>AUTORIZAÇÃO DE PESQUISA</td>\n",
       "      <td>2481 - AUT PESQ/VENCIMENTO ALVARÁ ALTERADO RES...</td>\n",
       "      <td>Empresa de Navegação Vjb Ltda</td>\n",
       "      <td>AREIA</td>\n",
       "      <td>Construção civil</td>\n",
       "      <td>BA</td>\n",
       "      <td>872.416/2012</td>\n",
       "    </tr>\n",
       "    <tr>\n",
       "      <th>2</th>\n",
       "      <td>8</td>\n",
       "      <td>901</td>\n",
       "      <td>Aldeia Velha</td>\n",
       "      <td>Patax�</td>\n",
       "      <td>Porto Seguro</td>\n",
       "      <td>BA</td>\n",
       "      <td>1997.5526</td>\n",
       "      <td>Regularizada</td>\n",
       "      <td>Tradicionalmente ocupada</td>\n",
       "      <td>NaN</td>\n",
       "      <td>...</td>\n",
       "      <td>2017</td>\n",
       "      <td>996.14</td>\n",
       "      <td>{430B272D-8C2C-4532-BEC4-E8CD24F5AABE}</td>\n",
       "      <td>AUTORIZAÇÃO DE PESQUISA</td>\n",
       "      <td>225 - AUT PESQ/MULTA APLICADA PUBL EM 18/09/2023</td>\n",
       "      <td>Luciano Araujo Menezes</td>\n",
       "      <td>ARGILA</td>\n",
       "      <td>Industrial</td>\n",
       "      <td>BA</td>\n",
       "      <td>870.631/2017</td>\n",
       "    </tr>\n",
       "    <tr>\n",
       "      <th>3</th>\n",
       "      <td>8</td>\n",
       "      <td>901</td>\n",
       "      <td>Aldeia Velha</td>\n",
       "      <td>Patax�</td>\n",
       "      <td>Porto Seguro</td>\n",
       "      <td>BA</td>\n",
       "      <td>1997.5526</td>\n",
       "      <td>Regularizada</td>\n",
       "      <td>Tradicionalmente ocupada</td>\n",
       "      <td>NaN</td>\n",
       "      <td>...</td>\n",
       "      <td>2012</td>\n",
       "      <td>36.32</td>\n",
       "      <td>{73E1EDE7-0099-45B7-8939-38EEB3420533}</td>\n",
       "      <td>AUTORIZAÇÃO DE PESQUISA</td>\n",
       "      <td>2481 - AUT PESQ/VENCIMENTO ALVARÁ ALTERADO RES...</td>\n",
       "      <td>Empresa de Navegação Vjb Ltda</td>\n",
       "      <td>AREIA</td>\n",
       "      <td>Construção civil</td>\n",
       "      <td>BA</td>\n",
       "      <td>872.417/2012</td>\n",
       "    </tr>\n",
       "    <tr>\n",
       "      <th>4</th>\n",
       "      <td>8</td>\n",
       "      <td>901</td>\n",
       "      <td>Aldeia Velha</td>\n",
       "      <td>Patax�</td>\n",
       "      <td>Porto Seguro</td>\n",
       "      <td>BA</td>\n",
       "      <td>1997.5526</td>\n",
       "      <td>Regularizada</td>\n",
       "      <td>Tradicionalmente ocupada</td>\n",
       "      <td>NaN</td>\n",
       "      <td>...</td>\n",
       "      <td>2018</td>\n",
       "      <td>905.86</td>\n",
       "      <td>{51F38A5F-67A5-4506-A7B0-99425C792300}</td>\n",
       "      <td>AUTORIZAÇÃO DE PESQUISA</td>\n",
       "      <td>794 - AUT PESQ/RELATÓRIO FINAL PESQUISA POSITI...</td>\n",
       "      <td>MOACYR COSTA PEREIRA DE ANDRADE</td>\n",
       "      <td>AREIA</td>\n",
       "      <td>Industrial</td>\n",
       "      <td>BA</td>\n",
       "      <td>871.780/2018</td>\n",
       "    </tr>\n",
       "  </tbody>\n",
       "</table>\n",
       "<p>5 rows × 30 columns</p>\n",
       "</div>"
      ],
      "text/plain": [
       "   gid  terrai_cod    terrai_nom etnia_nome    municipio_ uf_sigla  \\\n",
       "0    8         901  Aldeia Velha     Patax�  Porto Seguro       BA   \n",
       "1    8         901  Aldeia Velha     Patax�  Porto Seguro       BA   \n",
       "2    8         901  Aldeia Velha     Patax�  Porto Seguro       BA   \n",
       "3    8         901  Aldeia Velha     Patax�  Porto Seguro       BA   \n",
       "4    8         901  Aldeia Velha     Patax�  Porto Seguro       BA   \n",
       "\n",
       "   superficie       fase_ti                modalidade reestudo_t  ...   ANO  \\\n",
       "0   1997.5526  Regularizada  Tradicionalmente ocupada        NaN  ...  2014   \n",
       "1   1997.5526  Regularizada  Tradicionalmente ocupada        NaN  ...  2012   \n",
       "2   1997.5526  Regularizada  Tradicionalmente ocupada        NaN  ...  2017   \n",
       "3   1997.5526  Regularizada  Tradicionalmente ocupada        NaN  ...  2012   \n",
       "4   1997.5526  Regularizada  Tradicionalmente ocupada        NaN  ...  2018   \n",
       "\n",
       "  AREA_HA                                      ID                     FASE  \\\n",
       "0   23.99  {4B604FB0-F71B-4748-B09E-43AADDC484B9}  AUTORIZAÇÃO DE PESQUISA   \n",
       "1   48.11  {97AD657E-BB79-497E-917D-3BE34F296840}  AUTORIZAÇÃO DE PESQUISA   \n",
       "2  996.14  {430B272D-8C2C-4532-BEC4-E8CD24F5AABE}  AUTORIZAÇÃO DE PESQUISA   \n",
       "3   36.32  {73E1EDE7-0099-45B7-8939-38EEB3420533}  AUTORIZAÇÃO DE PESQUISA   \n",
       "4  905.86  {51F38A5F-67A5-4506-A7B0-99425C792300}  AUTORIZAÇÃO DE PESQUISA   \n",
       "\n",
       "                                          ULT_EVENTO  \\\n",
       "0  178 - AUT PESQ/TAH - NOTIFICAÇÃO ADMINISTRATIV...   \n",
       "1  2481 - AUT PESQ/VENCIMENTO ALVARÁ ALTERADO RES...   \n",
       "2   225 - AUT PESQ/MULTA APLICADA PUBL EM 18/09/2023   \n",
       "3  2481 - AUT PESQ/VENCIMENTO ALVARÁ ALTERADO RES...   \n",
       "4  794 - AUT PESQ/RELATÓRIO FINAL PESQUISA POSITI...   \n",
       "\n",
       "                                         NOME    SUBS               USO  UF  \\\n",
       "0  Marcondes Nogueira Beneficiamentos Ltda Me   AREIA  Construção civil  BA   \n",
       "1               Empresa de Navegação Vjb Ltda   AREIA  Construção civil  BA   \n",
       "2                      Luciano Araujo Menezes  ARGILA        Industrial  BA   \n",
       "3               Empresa de Navegação Vjb Ltda   AREIA  Construção civil  BA   \n",
       "4             MOACYR COSTA PEREIRA DE ANDRADE   AREIA        Industrial  BA   \n",
       "\n",
       "     DSProcesso  \n",
       "0  871.501/2014  \n",
       "1  872.416/2012  \n",
       "2  870.631/2017  \n",
       "3  872.417/2012  \n",
       "4  871.780/2018  \n",
       "\n",
       "[5 rows x 30 columns]"
      ]
     },
     "execution_count": 157,
     "metadata": {},
     "output_type": "execute_result"
    }
   ],
   "source": [
    "df_ind_info.head()"
   ]
  },
  {
   "cell_type": "code",
   "execution_count": 158,
   "id": "cefb109d-ef62-4cc6-b910-dd5c38268ccc",
   "metadata": {},
   "outputs": [
    {
     "data": {
      "text/plain": [
       "2633"
      ]
     },
     "execution_count": 158,
     "metadata": {},
     "output_type": "execute_result"
    }
   ],
   "source": [
    "# Double-checking the number of processes to see if it matches the first .csv \n",
    "df_ind_info['ID'].nunique()"
   ]
  },
  {
   "cell_type": "code",
   "execution_count": 159,
   "id": "9ff1453c-db43-43fb-ad4e-063a221eb9bd",
   "metadata": {},
   "outputs": [],
   "source": [
    "df_ind_info = df_ind_info.rename(columns={'terrai_cod':'land_cod', 'terrai_nom':'ind_land','etnia_nome':'etn_name',\n",
    "                            'municipio':'city','uf_sigla':'state', 'fase_ti':'stage'})"
   ]
  },
  {
   "cell_type": "code",
   "execution_count": 160,
   "id": "78dc666b-b488-4a08-ba86-b8accd66c172",
   "metadata": {},
   "outputs": [
    {
     "data": {
      "text/html": [
       "<div>\n",
       "<style scoped>\n",
       "    .dataframe tbody tr th:only-of-type {\n",
       "        vertical-align: middle;\n",
       "    }\n",
       "\n",
       "    .dataframe tbody tr th {\n",
       "        vertical-align: top;\n",
       "    }\n",
       "\n",
       "    .dataframe thead th {\n",
       "        text-align: right;\n",
       "    }\n",
       "</style>\n",
       "<table border=\"1\" class=\"dataframe\">\n",
       "  <thead>\n",
       "    <tr style=\"text-align: right;\">\n",
       "      <th></th>\n",
       "      <th>gid</th>\n",
       "      <th>land_cod</th>\n",
       "      <th>ind_land</th>\n",
       "      <th>etn_name</th>\n",
       "      <th>municipio_</th>\n",
       "      <th>state</th>\n",
       "      <th>superficie</th>\n",
       "      <th>stage</th>\n",
       "      <th>modalidade</th>\n",
       "      <th>reestudo_t</th>\n",
       "      <th>...</th>\n",
       "      <th>ANO</th>\n",
       "      <th>AREA_HA</th>\n",
       "      <th>ID</th>\n",
       "      <th>FASE</th>\n",
       "      <th>ULT_EVENTO</th>\n",
       "      <th>NOME</th>\n",
       "      <th>SUBS</th>\n",
       "      <th>USO</th>\n",
       "      <th>UF</th>\n",
       "      <th>DSProcesso</th>\n",
       "    </tr>\n",
       "  </thead>\n",
       "  <tbody>\n",
       "    <tr>\n",
       "      <th>0</th>\n",
       "      <td>8</td>\n",
       "      <td>901</td>\n",
       "      <td>Aldeia Velha</td>\n",
       "      <td>Patax�</td>\n",
       "      <td>Porto Seguro</td>\n",
       "      <td>BA</td>\n",
       "      <td>1997.5526</td>\n",
       "      <td>Regularizada</td>\n",
       "      <td>Tradicionalmente ocupada</td>\n",
       "      <td>NaN</td>\n",
       "      <td>...</td>\n",
       "      <td>2014</td>\n",
       "      <td>23.99</td>\n",
       "      <td>{4B604FB0-F71B-4748-B09E-43AADDC484B9}</td>\n",
       "      <td>AUTORIZAÇÃO DE PESQUISA</td>\n",
       "      <td>178 - AUT PESQ/TAH - NOTIFICAÇÃO ADMINISTRATIV...</td>\n",
       "      <td>Marcondes Nogueira Beneficiamentos Ltda Me</td>\n",
       "      <td>AREIA</td>\n",
       "      <td>Construção civil</td>\n",
       "      <td>BA</td>\n",
       "      <td>871.501/2014</td>\n",
       "    </tr>\n",
       "    <tr>\n",
       "      <th>1</th>\n",
       "      <td>8</td>\n",
       "      <td>901</td>\n",
       "      <td>Aldeia Velha</td>\n",
       "      <td>Patax�</td>\n",
       "      <td>Porto Seguro</td>\n",
       "      <td>BA</td>\n",
       "      <td>1997.5526</td>\n",
       "      <td>Regularizada</td>\n",
       "      <td>Tradicionalmente ocupada</td>\n",
       "      <td>NaN</td>\n",
       "      <td>...</td>\n",
       "      <td>2012</td>\n",
       "      <td>48.11</td>\n",
       "      <td>{97AD657E-BB79-497E-917D-3BE34F296840}</td>\n",
       "      <td>AUTORIZAÇÃO DE PESQUISA</td>\n",
       "      <td>2481 - AUT PESQ/VENCIMENTO ALVARÁ ALTERADO RES...</td>\n",
       "      <td>Empresa de Navegação Vjb Ltda</td>\n",
       "      <td>AREIA</td>\n",
       "      <td>Construção civil</td>\n",
       "      <td>BA</td>\n",
       "      <td>872.416/2012</td>\n",
       "    </tr>\n",
       "    <tr>\n",
       "      <th>2</th>\n",
       "      <td>8</td>\n",
       "      <td>901</td>\n",
       "      <td>Aldeia Velha</td>\n",
       "      <td>Patax�</td>\n",
       "      <td>Porto Seguro</td>\n",
       "      <td>BA</td>\n",
       "      <td>1997.5526</td>\n",
       "      <td>Regularizada</td>\n",
       "      <td>Tradicionalmente ocupada</td>\n",
       "      <td>NaN</td>\n",
       "      <td>...</td>\n",
       "      <td>2017</td>\n",
       "      <td>996.14</td>\n",
       "      <td>{430B272D-8C2C-4532-BEC4-E8CD24F5AABE}</td>\n",
       "      <td>AUTORIZAÇÃO DE PESQUISA</td>\n",
       "      <td>225 - AUT PESQ/MULTA APLICADA PUBL EM 18/09/2023</td>\n",
       "      <td>Luciano Araujo Menezes</td>\n",
       "      <td>ARGILA</td>\n",
       "      <td>Industrial</td>\n",
       "      <td>BA</td>\n",
       "      <td>870.631/2017</td>\n",
       "    </tr>\n",
       "    <tr>\n",
       "      <th>3</th>\n",
       "      <td>8</td>\n",
       "      <td>901</td>\n",
       "      <td>Aldeia Velha</td>\n",
       "      <td>Patax�</td>\n",
       "      <td>Porto Seguro</td>\n",
       "      <td>BA</td>\n",
       "      <td>1997.5526</td>\n",
       "      <td>Regularizada</td>\n",
       "      <td>Tradicionalmente ocupada</td>\n",
       "      <td>NaN</td>\n",
       "      <td>...</td>\n",
       "      <td>2012</td>\n",
       "      <td>36.32</td>\n",
       "      <td>{73E1EDE7-0099-45B7-8939-38EEB3420533}</td>\n",
       "      <td>AUTORIZAÇÃO DE PESQUISA</td>\n",
       "      <td>2481 - AUT PESQ/VENCIMENTO ALVARÁ ALTERADO RES...</td>\n",
       "      <td>Empresa de Navegação Vjb Ltda</td>\n",
       "      <td>AREIA</td>\n",
       "      <td>Construção civil</td>\n",
       "      <td>BA</td>\n",
       "      <td>872.417/2012</td>\n",
       "    </tr>\n",
       "    <tr>\n",
       "      <th>4</th>\n",
       "      <td>8</td>\n",
       "      <td>901</td>\n",
       "      <td>Aldeia Velha</td>\n",
       "      <td>Patax�</td>\n",
       "      <td>Porto Seguro</td>\n",
       "      <td>BA</td>\n",
       "      <td>1997.5526</td>\n",
       "      <td>Regularizada</td>\n",
       "      <td>Tradicionalmente ocupada</td>\n",
       "      <td>NaN</td>\n",
       "      <td>...</td>\n",
       "      <td>2018</td>\n",
       "      <td>905.86</td>\n",
       "      <td>{51F38A5F-67A5-4506-A7B0-99425C792300}</td>\n",
       "      <td>AUTORIZAÇÃO DE PESQUISA</td>\n",
       "      <td>794 - AUT PESQ/RELATÓRIO FINAL PESQUISA POSITI...</td>\n",
       "      <td>MOACYR COSTA PEREIRA DE ANDRADE</td>\n",
       "      <td>AREIA</td>\n",
       "      <td>Industrial</td>\n",
       "      <td>BA</td>\n",
       "      <td>871.780/2018</td>\n",
       "    </tr>\n",
       "  </tbody>\n",
       "</table>\n",
       "<p>5 rows × 30 columns</p>\n",
       "</div>"
      ],
      "text/plain": [
       "   gid  land_cod      ind_land etn_name    municipio_ state  superficie  \\\n",
       "0    8       901  Aldeia Velha   Patax�  Porto Seguro    BA   1997.5526   \n",
       "1    8       901  Aldeia Velha   Patax�  Porto Seguro    BA   1997.5526   \n",
       "2    8       901  Aldeia Velha   Patax�  Porto Seguro    BA   1997.5526   \n",
       "3    8       901  Aldeia Velha   Patax�  Porto Seguro    BA   1997.5526   \n",
       "4    8       901  Aldeia Velha   Patax�  Porto Seguro    BA   1997.5526   \n",
       "\n",
       "          stage                modalidade reestudo_t  ...   ANO AREA_HA  \\\n",
       "0  Regularizada  Tradicionalmente ocupada        NaN  ...  2014   23.99   \n",
       "1  Regularizada  Tradicionalmente ocupada        NaN  ...  2012   48.11   \n",
       "2  Regularizada  Tradicionalmente ocupada        NaN  ...  2017  996.14   \n",
       "3  Regularizada  Tradicionalmente ocupada        NaN  ...  2012   36.32   \n",
       "4  Regularizada  Tradicionalmente ocupada        NaN  ...  2018  905.86   \n",
       "\n",
       "                                       ID                     FASE  \\\n",
       "0  {4B604FB0-F71B-4748-B09E-43AADDC484B9}  AUTORIZAÇÃO DE PESQUISA   \n",
       "1  {97AD657E-BB79-497E-917D-3BE34F296840}  AUTORIZAÇÃO DE PESQUISA   \n",
       "2  {430B272D-8C2C-4532-BEC4-E8CD24F5AABE}  AUTORIZAÇÃO DE PESQUISA   \n",
       "3  {73E1EDE7-0099-45B7-8939-38EEB3420533}  AUTORIZAÇÃO DE PESQUISA   \n",
       "4  {51F38A5F-67A5-4506-A7B0-99425C792300}  AUTORIZAÇÃO DE PESQUISA   \n",
       "\n",
       "                                          ULT_EVENTO  \\\n",
       "0  178 - AUT PESQ/TAH - NOTIFICAÇÃO ADMINISTRATIV...   \n",
       "1  2481 - AUT PESQ/VENCIMENTO ALVARÁ ALTERADO RES...   \n",
       "2   225 - AUT PESQ/MULTA APLICADA PUBL EM 18/09/2023   \n",
       "3  2481 - AUT PESQ/VENCIMENTO ALVARÁ ALTERADO RES...   \n",
       "4  794 - AUT PESQ/RELATÓRIO FINAL PESQUISA POSITI...   \n",
       "\n",
       "                                         NOME    SUBS               USO  UF  \\\n",
       "0  Marcondes Nogueira Beneficiamentos Ltda Me   AREIA  Construção civil  BA   \n",
       "1               Empresa de Navegação Vjb Ltda   AREIA  Construção civil  BA   \n",
       "2                      Luciano Araujo Menezes  ARGILA        Industrial  BA   \n",
       "3               Empresa de Navegação Vjb Ltda   AREIA  Construção civil  BA   \n",
       "4             MOACYR COSTA PEREIRA DE ANDRADE   AREIA        Industrial  BA   \n",
       "\n",
       "     DSProcesso  \n",
       "0  871.501/2014  \n",
       "1  872.416/2012  \n",
       "2  870.631/2017  \n",
       "3  872.417/2012  \n",
       "4  871.780/2018  \n",
       "\n",
       "[5 rows x 30 columns]"
      ]
     },
     "execution_count": 160,
     "metadata": {},
     "output_type": "execute_result"
    }
   ],
   "source": [
    "df_ind_info.head()"
   ]
  },
  {
   "cell_type": "code",
   "execution_count": 106,
   "id": "679e4b7c-8011-4b0b-8816-7ec5c03f3742",
   "metadata": {},
   "outputs": [
    {
     "data": {
      "text/html": [
       "<div>\n",
       "<style scoped>\n",
       "    .dataframe tbody tr th:only-of-type {\n",
       "        vertical-align: middle;\n",
       "    }\n",
       "\n",
       "    .dataframe tbody tr th {\n",
       "        vertical-align: top;\n",
       "    }\n",
       "\n",
       "    .dataframe thead th {\n",
       "        text-align: right;\n",
       "    }\n",
       "</style>\n",
       "<table border=\"1\" class=\"dataframe\">\n",
       "  <thead>\n",
       "    <tr style=\"text-align: right;\">\n",
       "      <th></th>\n",
       "      <th>count</th>\n",
       "    </tr>\n",
       "    <tr>\n",
       "      <th>ind_land</th>\n",
       "      <th></th>\n",
       "    </tr>\n",
       "  </thead>\n",
       "  <tbody>\n",
       "    <tr>\n",
       "      <th>Kayap�</th>\n",
       "      <td>115</td>\n",
       "    </tr>\n",
       "    <tr>\n",
       "      <th>Yanomami</th>\n",
       "      <td>87</td>\n",
       "    </tr>\n",
       "    <tr>\n",
       "      <th>Sawr� Bap in (Apompu)</th>\n",
       "      <td>86</td>\n",
       "    </tr>\n",
       "    <tr>\n",
       "      <th>Alto Rio Negro</th>\n",
       "      <td>73</td>\n",
       "    </tr>\n",
       "    <tr>\n",
       "      <th>Sawr� Muybu (Pimental)</th>\n",
       "      <td>73</td>\n",
       "    </tr>\n",
       "    <tr>\n",
       "      <th>Munduruku</th>\n",
       "      <td>72</td>\n",
       "    </tr>\n",
       "    <tr>\n",
       "      <th>Waimiri-Atroari</th>\n",
       "      <td>72</td>\n",
       "    </tr>\n",
       "    <tr>\n",
       "      <th>Xikrin do Rio Catete</th>\n",
       "      <td>62</td>\n",
       "    </tr>\n",
       "    <tr>\n",
       "      <th>Tekoha Guas� Guavir�</th>\n",
       "      <td>61</td>\n",
       "    </tr>\n",
       "    <tr>\n",
       "      <th>Apyterewa</th>\n",
       "      <td>56</td>\n",
       "    </tr>\n",
       "  </tbody>\n",
       "</table>\n",
       "</div>"
      ],
      "text/plain": [
       "                        count\n",
       "ind_land                     \n",
       "Kayap�                    115\n",
       "Yanomami                   87\n",
       "Sawr� Bap in (Apompu)      86\n",
       "Alto Rio Negro             73\n",
       "Sawr� Muybu (Pimental)     73\n",
       "Munduruku                  72\n",
       "Waimiri-Atroari            72\n",
       "Xikrin do Rio Catete       62\n",
       "Tekoha Guas� Guavir�       61\n",
       "Apyterewa                  56"
      ]
     },
     "execution_count": 106,
     "metadata": {},
     "output_type": "execute_result"
    }
   ],
   "source": [
    "df_ind_info['ind_land'].value_counts().sort_values(ascending=False).head(10).to_frame()"
   ]
  },
  {
   "cell_type": "code",
   "execution_count": 108,
   "id": "e6b789dd-6859-4566-bf1d-c0e114ce56c2",
   "metadata": {},
   "outputs": [
    {
     "data": {
      "text/html": [
       "<div>\n",
       "<style scoped>\n",
       "    .dataframe tbody tr th:only-of-type {\n",
       "        vertical-align: middle;\n",
       "    }\n",
       "\n",
       "    .dataframe tbody tr th {\n",
       "        vertical-align: top;\n",
       "    }\n",
       "\n",
       "    .dataframe thead th {\n",
       "        text-align: right;\n",
       "    }\n",
       "</style>\n",
       "<table border=\"1\" class=\"dataframe\">\n",
       "  <thead>\n",
       "    <tr style=\"text-align: right;\">\n",
       "      <th></th>\n",
       "      <th>count</th>\n",
       "    </tr>\n",
       "    <tr>\n",
       "      <th>etn_name</th>\n",
       "      <th></th>\n",
       "    </tr>\n",
       "  </thead>\n",
       "  <tbody>\n",
       "    <tr>\n",
       "      <th>Kayap�</th>\n",
       "      <td>345</td>\n",
       "    </tr>\n",
       "    <tr>\n",
       "      <th>Munduruk�</th>\n",
       "      <td>256</td>\n",
       "    </tr>\n",
       "    <tr>\n",
       "      <th>Guarani Mbya</th>\n",
       "      <td>115</td>\n",
       "    </tr>\n",
       "    <tr>\n",
       "      <th>M�ra</th>\n",
       "      <td>103</td>\n",
       "    </tr>\n",
       "    <tr>\n",
       "      <th>Yanom�mi</th>\n",
       "      <td>87</td>\n",
       "    </tr>\n",
       "    <tr>\n",
       "      <th>Nambikw�ra</th>\n",
       "      <td>77</td>\n",
       "    </tr>\n",
       "    <tr>\n",
       "      <th>Guarani Nhandeva</th>\n",
       "      <td>76</td>\n",
       "    </tr>\n",
       "    <tr>\n",
       "      <th>Arap�so,Karapan�,Baras�na,Bar�,Wanana</th>\n",
       "      <td>73</td>\n",
       "    </tr>\n",
       "    <tr>\n",
       "      <th>Parakan�</th>\n",
       "      <td>72</td>\n",
       "    </tr>\n",
       "    <tr>\n",
       "      <th>Waimiri Atroari</th>\n",
       "      <td>72</td>\n",
       "    </tr>\n",
       "  </tbody>\n",
       "</table>\n",
       "</div>"
      ],
      "text/plain": [
       "                                       count\n",
       "etn_name                                    \n",
       "Kayap�                                   345\n",
       "Munduruk�                                256\n",
       "Guarani Mbya                             115\n",
       "M�ra                                     103\n",
       "Yanom�mi                                  87\n",
       "Nambikw�ra                                77\n",
       "Guarani Nhandeva                          76\n",
       "Arap�so,Karapan�,Baras�na,Bar�,Wanana     73\n",
       "Parakan�                                  72\n",
       "Waimiri Atroari                           72"
      ]
     },
     "execution_count": 108,
     "metadata": {},
     "output_type": "execute_result"
    }
   ],
   "source": [
    "df_ind_info['etn_name'].value_counts().sort_values(ascending=False).head(10).to_frame()"
   ]
  },
  {
   "cell_type": "code",
   "execution_count": 109,
   "id": "37e48065-a01e-4385-bedc-726c2bd5f05a",
   "metadata": {},
   "outputs": [
    {
     "data": {
      "text/html": [
       "<div>\n",
       "<style scoped>\n",
       "    .dataframe tbody tr th:only-of-type {\n",
       "        vertical-align: middle;\n",
       "    }\n",
       "\n",
       "    .dataframe tbody tr th {\n",
       "        vertical-align: top;\n",
       "    }\n",
       "\n",
       "    .dataframe thead th {\n",
       "        text-align: right;\n",
       "    }\n",
       "</style>\n",
       "<table border=\"1\" class=\"dataframe\">\n",
       "  <thead>\n",
       "    <tr style=\"text-align: right;\">\n",
       "      <th></th>\n",
       "      <th>count</th>\n",
       "    </tr>\n",
       "    <tr>\n",
       "      <th>state</th>\n",
       "      <th></th>\n",
       "    </tr>\n",
       "  </thead>\n",
       "  <tbody>\n",
       "    <tr>\n",
       "      <th>PA</th>\n",
       "      <td>869</td>\n",
       "    </tr>\n",
       "    <tr>\n",
       "      <th>AM</th>\n",
       "      <td>375</td>\n",
       "    </tr>\n",
       "    <tr>\n",
       "      <th>MT</th>\n",
       "      <td>235</td>\n",
       "    </tr>\n",
       "    <tr>\n",
       "      <th>RR</th>\n",
       "      <td>169</td>\n",
       "    </tr>\n",
       "    <tr>\n",
       "      <th>RR,AM</th>\n",
       "      <td>159</td>\n",
       "    </tr>\n",
       "    <tr>\n",
       "      <th>RO</th>\n",
       "      <td>142</td>\n",
       "    </tr>\n",
       "    <tr>\n",
       "      <th>BA</th>\n",
       "      <td>125</td>\n",
       "    </tr>\n",
       "    <tr>\n",
       "      <th>MG</th>\n",
       "      <td>110</td>\n",
       "    </tr>\n",
       "    <tr>\n",
       "      <th>SC</th>\n",
       "      <td>102</td>\n",
       "    </tr>\n",
       "    <tr>\n",
       "      <th>PR</th>\n",
       "      <td>87</td>\n",
       "    </tr>\n",
       "  </tbody>\n",
       "</table>\n",
       "</div>"
      ],
      "text/plain": [
       "       count\n",
       "state       \n",
       "PA       869\n",
       "AM       375\n",
       "MT       235\n",
       "RR       169\n",
       "RR,AM    159\n",
       "RO       142\n",
       "BA       125\n",
       "MG       110\n",
       "SC       102\n",
       "PR        87"
      ]
     },
     "execution_count": 109,
     "metadata": {},
     "output_type": "execute_result"
    }
   ],
   "source": [
    "df_ind_info['state'].value_counts().sort_values(ascending=False).head(10).to_frame()"
   ]
  },
  {
   "cell_type": "code",
   "execution_count": 110,
   "id": "48f5bddc-8f47-4c96-93a9-a7507ba7bbda",
   "metadata": {},
   "outputs": [],
   "source": [
    "# Again, Amazonian states lead the rankings, a trend that is also reflected in the combined dataset"
   ]
  },
  {
   "cell_type": "code",
   "execution_count": 115,
   "id": "e50da5cd-d842-4e16-b216-02f64e73bf4c",
   "metadata": {},
   "outputs": [
    {
     "data": {
      "text/html": [
       "<div>\n",
       "<style scoped>\n",
       "    .dataframe tbody tr th:only-of-type {\n",
       "        vertical-align: middle;\n",
       "    }\n",
       "\n",
       "    .dataframe tbody tr th {\n",
       "        vertical-align: top;\n",
       "    }\n",
       "\n",
       "    .dataframe thead th {\n",
       "        text-align: right;\n",
       "    }\n",
       "</style>\n",
       "<table border=\"1\" class=\"dataframe\">\n",
       "  <thead>\n",
       "    <tr style=\"text-align: right;\">\n",
       "      <th></th>\n",
       "      <th></th>\n",
       "      <th>count</th>\n",
       "    </tr>\n",
       "    <tr>\n",
       "      <th>ind_land</th>\n",
       "      <th>FASE</th>\n",
       "      <th></th>\n",
       "    </tr>\n",
       "  </thead>\n",
       "  <tbody>\n",
       "    <tr>\n",
       "      <th>Alto Rio Negro</th>\n",
       "      <th>REQUERIMENTO DE PESQUISA</th>\n",
       "      <td>72</td>\n",
       "    </tr>\n",
       "    <tr>\n",
       "      <th>Waimiri-Atroari</th>\n",
       "      <th>REQUERIMENTO DE PESQUISA</th>\n",
       "      <td>67</td>\n",
       "    </tr>\n",
       "    <tr>\n",
       "      <th>Yanomami</th>\n",
       "      <th>REQUERIMENTO DE PESQUISA</th>\n",
       "      <td>63</td>\n",
       "    </tr>\n",
       "    <tr>\n",
       "      <th>Kayap�</th>\n",
       "      <th>REQUERIMENTO DE PESQUISA</th>\n",
       "      <td>63</td>\n",
       "    </tr>\n",
       "    <tr>\n",
       "      <th>Ba�</th>\n",
       "      <th>REQUERIMENTO DE PESQUISA</th>\n",
       "      <td>49</td>\n",
       "    </tr>\n",
       "    <tr>\n",
       "      <th>M�dio Rio Negro I</th>\n",
       "      <th>REQUERIMENTO DE PESQUISA</th>\n",
       "      <td>36</td>\n",
       "    </tr>\n",
       "    <tr>\n",
       "      <th rowspan=\"2\" valign=\"top\">Munduruku</th>\n",
       "      <th>REQUERIMENTO DE PESQUISA</th>\n",
       "      <td>33</td>\n",
       "    </tr>\n",
       "    <tr>\n",
       "      <th>REQUERIMENTO DE LAVRA GARIMPEIRA</th>\n",
       "      <td>32</td>\n",
       "    </tr>\n",
       "    <tr>\n",
       "      <th>Sawr� Bap in (Apompu)</th>\n",
       "      <th>REQUERIMENTO DE PESQUISA</th>\n",
       "      <td>31</td>\n",
       "    </tr>\n",
       "    <tr>\n",
       "      <th>Menkragnoti</th>\n",
       "      <th>REQUERIMENTO DE PESQUISA</th>\n",
       "      <td>30</td>\n",
       "    </tr>\n",
       "  </tbody>\n",
       "</table>\n",
       "</div>"
      ],
      "text/plain": [
       "                                                        count\n",
       "ind_land              FASE                                   \n",
       "Alto Rio Negro        REQUERIMENTO DE PESQUISA             72\n",
       "Waimiri-Atroari       REQUERIMENTO DE PESQUISA             67\n",
       "Yanomami              REQUERIMENTO DE PESQUISA             63\n",
       "Kayap�                REQUERIMENTO DE PESQUISA             63\n",
       "Ba�                   REQUERIMENTO DE PESQUISA             49\n",
       "M�dio Rio Negro I     REQUERIMENTO DE PESQUISA             36\n",
       "Munduruku             REQUERIMENTO DE PESQUISA             33\n",
       "                      REQUERIMENTO DE LAVRA GARIMPEIRA     32\n",
       "Sawr� Bap in (Apompu) REQUERIMENTO DE PESQUISA             31\n",
       "Menkragnoti           REQUERIMENTO DE PESQUISA             30"
      ]
     },
     "execution_count": 115,
     "metadata": {},
     "output_type": "execute_result"
    }
   ],
   "source": [
    "df_ind_info.groupby('ind_land')['FASE'].value_counts().sort_values(ascending=False).head(10).to_frame()"
   ]
  },
  {
   "cell_type": "code",
   "execution_count": 116,
   "id": "c76d7c0a-ebdd-4752-9bfd-c687a8c3288d",
   "metadata": {},
   "outputs": [],
   "source": [
    "# Documentation for \"Requerimento de Lavra Garimpeira\": https://www.gov.br/anm/pt-br/assuntos/exploracao-mineral/regimes-de-exploracao-mineral/permissao-de-lavra-garimpeira"
   ]
  },
  {
   "cell_type": "code",
   "execution_count": 124,
   "id": "002390df-6a22-41bc-aa40-882d7593f542",
   "metadata": {},
   "outputs": [
    {
     "data": {
      "text/html": [
       "<div>\n",
       "<style scoped>\n",
       "    .dataframe tbody tr th:only-of-type {\n",
       "        vertical-align: middle;\n",
       "    }\n",
       "\n",
       "    .dataframe tbody tr th {\n",
       "        vertical-align: top;\n",
       "    }\n",
       "\n",
       "    .dataframe thead th {\n",
       "        text-align: right;\n",
       "    }\n",
       "</style>\n",
       "<table border=\"1\" class=\"dataframe\">\n",
       "  <thead>\n",
       "    <tr style=\"text-align: right;\">\n",
       "      <th></th>\n",
       "      <th></th>\n",
       "      <th>count</th>\n",
       "    </tr>\n",
       "    <tr>\n",
       "      <th>NOME</th>\n",
       "      <th>ind_land</th>\n",
       "      <th></th>\n",
       "    </tr>\n",
       "  </thead>\n",
       "  <tbody>\n",
       "    <tr>\n",
       "      <th>Mamoré Mineração e Metalurgia Ltda</th>\n",
       "      <th>Waimiri-Atroari</th>\n",
       "      <td>34</td>\n",
       "    </tr>\n",
       "    <tr>\n",
       "      <th>VALE S.A.</th>\n",
       "      <th>Xikrin do Rio Catete</th>\n",
       "      <td>30</td>\n",
       "    </tr>\n",
       "    <tr>\n",
       "      <th>MINERACAO SILVANA INDUSTRIA E COMERCIO LTDA</th>\n",
       "      <th>Ba�</th>\n",
       "      <td>29</td>\n",
       "    </tr>\n",
       "    <tr>\n",
       "      <th>MINERACAO GUANHAES LTDA</th>\n",
       "      <th>Kaxuyana-Tunayana</th>\n",
       "      <td>27</td>\n",
       "    </tr>\n",
       "    <tr>\n",
       "      <th rowspan=\"2\" valign=\"top\">ANGLO AMERICAN NIQUEL BRASIL LTDA</th>\n",
       "      <th>Badjonkore</th>\n",
       "      <td>21</td>\n",
       "    </tr>\n",
       "    <tr>\n",
       "      <th>Sawr� Muybu (Pimental)</th>\n",
       "      <td>21</td>\n",
       "    </tr>\n",
       "    <tr>\n",
       "      <th>Falcon Metais Ltda</th>\n",
       "      <th>Andir�-Marau</th>\n",
       "      <td>17</td>\n",
       "    </tr>\n",
       "    <tr>\n",
       "      <th>Mineração Itamaracá Ltda.</th>\n",
       "      <th>Igarap� Lourdes</th>\n",
       "      <td>16</td>\n",
       "    </tr>\n",
       "    <tr>\n",
       "      <th>Joari Sociedade de Mineração Joari Ltda</th>\n",
       "      <th>Anaro</th>\n",
       "      <td>15</td>\n",
       "    </tr>\n",
       "    <tr>\n",
       "      <th>VALE S.A.</th>\n",
       "      <th>Apyterewa</th>\n",
       "      <td>14</td>\n",
       "    </tr>\n",
       "  </tbody>\n",
       "</table>\n",
       "</div>"
      ],
      "text/plain": [
       "                                                                    count\n",
       "NOME                                        ind_land                     \n",
       "Mamoré Mineração e Metalurgia Ltda          Waimiri-Atroari            34\n",
       "VALE S.A.                                   Xikrin do Rio Catete       30\n",
       "MINERACAO SILVANA INDUSTRIA E COMERCIO LTDA Ba�                        29\n",
       "MINERACAO GUANHAES LTDA                     Kaxuyana-Tunayana          27\n",
       "ANGLO AMERICAN NIQUEL BRASIL LTDA           Badjonkore                 21\n",
       "                                            Sawr� Muybu (Pimental)     21\n",
       "Falcon Metais Ltda                          Andir�-Marau               17\n",
       "Mineração Itamaracá Ltda.                   Igarap� Lourdes            16\n",
       "Joari Sociedade de Mineração Joari Ltda     Anaro                      15\n",
       "VALE S.A.                                   Apyterewa                  14"
      ]
     },
     "execution_count": 124,
     "metadata": {},
     "output_type": "execute_result"
    }
   ],
   "source": [
    "df_ind_info.groupby('NOME')['ind_land'].value_counts().sort_values(ascending=False).head(10).to_frame()"
   ]
  },
  {
   "cell_type": "code",
   "execution_count": 126,
   "id": "3398561f-cae2-4f3f-94ea-66f175ff0dd4",
   "metadata": {},
   "outputs": [
    {
     "data": {
      "text/html": [
       "<div>\n",
       "<style scoped>\n",
       "    .dataframe tbody tr th:only-of-type {\n",
       "        vertical-align: middle;\n",
       "    }\n",
       "\n",
       "    .dataframe tbody tr th {\n",
       "        vertical-align: top;\n",
       "    }\n",
       "\n",
       "    .dataframe thead th {\n",
       "        text-align: right;\n",
       "    }\n",
       "</style>\n",
       "<table border=\"1\" class=\"dataframe\">\n",
       "  <thead>\n",
       "    <tr style=\"text-align: right;\">\n",
       "      <th></th>\n",
       "      <th></th>\n",
       "      <th>count</th>\n",
       "    </tr>\n",
       "    <tr>\n",
       "      <th>SUBS</th>\n",
       "      <th>ind_land</th>\n",
       "      <th></th>\n",
       "    </tr>\n",
       "  </thead>\n",
       "  <tbody>\n",
       "    <tr>\n",
       "      <th>AREIA</th>\n",
       "      <th>Tekoha Guas� Guavir�</th>\n",
       "      <td>58</td>\n",
       "    </tr>\n",
       "    <tr>\n",
       "      <th rowspan=\"2\" valign=\"top\">MINÉRIO DE OURO</th>\n",
       "      <th>Munduruku</th>\n",
       "      <td>47</td>\n",
       "    </tr>\n",
       "    <tr>\n",
       "      <th>Kayap�</th>\n",
       "      <td>45</td>\n",
       "    </tr>\n",
       "    <tr>\n",
       "      <th>OURO</th>\n",
       "      <th>Ba�</th>\n",
       "      <td>43</td>\n",
       "    </tr>\n",
       "    <tr>\n",
       "      <th rowspan=\"3\" valign=\"top\">MINÉRIO DE OURO</th>\n",
       "      <th>Sawr� Bap in (Apompu)</th>\n",
       "      <td>42</td>\n",
       "    </tr>\n",
       "    <tr>\n",
       "      <th>Sawr� Muybu (Pimental)</th>\n",
       "      <td>40</td>\n",
       "    </tr>\n",
       "    <tr>\n",
       "      <th>Yanomami</th>\n",
       "      <td>30</td>\n",
       "    </tr>\n",
       "    <tr>\n",
       "      <th>ZIRCÃO</th>\n",
       "      <th>Waimiri-Atroari</th>\n",
       "      <td>30</td>\n",
       "    </tr>\n",
       "    <tr>\n",
       "      <th>MINÉRIO DE COBRE</th>\n",
       "      <th>Kaxuyana-Tunayana</th>\n",
       "      <td>27</td>\n",
       "    </tr>\n",
       "    <tr>\n",
       "      <th>OURO</th>\n",
       "      <th>Alto Rio Negro</th>\n",
       "      <td>25</td>\n",
       "    </tr>\n",
       "  </tbody>\n",
       "</table>\n",
       "</div>"
      ],
      "text/plain": [
       "                                         count\n",
       "SUBS             ind_land                     \n",
       "AREIA            Tekoha Guas� Guavir�       58\n",
       "MINÉRIO DE OURO  Munduruku                  47\n",
       "                 Kayap�                     45\n",
       "OURO             Ba�                        43\n",
       "MINÉRIO DE OURO  Sawr� Bap in (Apompu)      42\n",
       "                 Sawr� Muybu (Pimental)     40\n",
       "                 Yanomami                   30\n",
       "ZIRCÃO           Waimiri-Atroari            30\n",
       "MINÉRIO DE COBRE Kaxuyana-Tunayana          27\n",
       "OURO             Alto Rio Negro             25"
      ]
     },
     "execution_count": 126,
     "metadata": {},
     "output_type": "execute_result"
    }
   ],
   "source": [
    "df_ind_info.groupby('SUBS')['ind_land'].value_counts().sort_values(ascending=False).head(10).to_frame()"
   ]
  },
  {
   "cell_type": "code",
   "execution_count": null,
   "id": "638598ae-600b-4122-8b65-996da1c0a2a4",
   "metadata": {},
   "outputs": [],
   "source": []
  }
 ],
 "metadata": {
  "kernelspec": {
   "display_name": "Python 3 (ipykernel)",
   "language": "python",
   "name": "python3"
  },
  "language_info": {
   "codemirror_mode": {
    "name": "ipython",
    "version": 3
   },
   "file_extension": ".py",
   "mimetype": "text/x-python",
   "name": "python",
   "nbconvert_exporter": "python",
   "pygments_lexer": "ipython3",
   "version": "3.12.10"
  }
 },
 "nbformat": 4,
 "nbformat_minor": 5
}
